{
 "cells": [
  {
   "cell_type": "markdown",
   "metadata": {
    "id": "lT9L9h98njIM"
   },
   "source": [
    "# Image Features Analysis with PCA and pretrained MBNV2\n",
    "## Libraries importations and preprocessing\n",
    "Note : All elements in this first section have already been described in the basic_model notebook."
   ]
  },
  {
   "cell_type": "code",
   "execution_count": 1,
   "metadata": {
    "colab": {
     "base_uri": "https://localhost:8080/"
    },
    "id": "v_tUgRYhnjIN",
    "outputId": "32328e1a-e011-4f83-8a22-6e2eaf8b4c33",
    "trusted": true
   },
   "outputs": [],
   "source": [
    "import tensorflow as tf\n",
    "from tensorflow import keras as tfk\n",
    "import plotly.express as px\n",
    "import matplotlib.pyplot as plt\n",
    "import seaborn as sn\n",
    "from matplotlib import cm\n",
    "from plotly import graph_objects as go\n",
    "\n",
    "import albumentations as A\n",
    "import numpy as np\n",
    "import pandas as pd\n",
    "from sklearn.decomposition import PCA\n",
    "from sklearn.cluster import KMeans\n",
    "import random\n",
    "import cv2 as cv\n",
    "import torch\n",
    "from torchvision import transforms, models\n",
    "from PIL import Image\n",
    "\n",
    "np.random.seed(42)\n",
    "tf.random.set_seed(42)"
   ]
  },
  {
   "cell_type": "code",
   "execution_count": 2,
   "metadata": {
    "colab": {
     "base_uri": "https://localhost:8080/"
    },
    "id": "byw-JNrrnjIP",
    "outputId": "84467125-3551-46d5-a5cc-bb652f2d601f",
    "trusted": true
   },
   "outputs": [
    {
     "name": "stdout",
     "output_type": "stream",
     "text": [
      "(13759, 96, 96, 3) (13759, 1)\n"
     ]
    }
   ],
   "source": [
    "data = np.load('training_set.npz')\n",
    "\n",
    "X = data['images']\n",
    "y = data['labels']\n",
    "print(X.shape, y.shape)\n",
    "\n",
    "labels = {0:'Basophil', 1:'Eosinophil', 2:'Erythroblast', 3:'Immature granulocytes', 4:'Lymphocyte', 5:'Monocyte', 6:'Neutrophil', 7:'Platelet'}"
   ]
  },
  {
   "cell_type": "code",
   "execution_count": 3,
   "metadata": {
    "colab": {
     "base_uri": "https://localhost:8080/"
    },
    "id": "t1PWnj4anjIP",
    "outputId": "baffdb59-ec7c-4d8a-c899-c0ab82060eac",
    "trusted": true
   },
   "outputs": [
    {
     "name": "stdout",
     "output_type": "stream",
     "text": [
      "There are no missing or NaN values in the target vector.\n",
      "labels reduced from 13759 to 11953\n"
     ]
    }
   ],
   "source": [
    "import hashlib\n",
    "missing_targets = np.isnan(y.flatten()).any()\n",
    "image_hashes = [hashlib.md5(img.tobytes()).hexdigest() for img in X]\n",
    "df = pd.DataFrame({'image_hash': image_hashes, 'label': y.flatten()})\n",
    "unique_df = df.drop_duplicates(subset = 'image_hash').reset_index(drop=True)\n",
    "\n",
    "if not missing_targets :\n",
    "    print(\"There are no missing or NaN values in the target vector.\")\n",
    "\n",
    "X_unique = X[unique_df.index]\n",
    "y_unique = y[unique_df.index]\n",
    "print(f'labels reduced from {len(y)} to {len(y_unique)}')"
   ]
  },
  {
   "cell_type": "markdown",
   "metadata": {
    "id": "ULG5A5tanjIQ"
   },
   "source": [
    "## Features extraction\n",
    "We extract the features of a subset of the images (1000) with a pretrained MBNV2 by keeping only the output of the GAP layer. The goal is then to visualize those features in a reduced-dimensions space."
   ]
  },
  {
   "cell_type": "code",
   "execution_count": 4,
   "metadata": {
    "execution": {
     "iopub.execute_input": "2024-11-23T15:07:13.061758Z",
     "iopub.status.busy": "2024-11-23T15:07:13.061409Z",
     "iopub.status.idle": "2024-11-23T15:07:13.066940Z",
     "shell.execute_reply": "2024-11-23T15:07:13.065805Z",
     "shell.execute_reply.started": "2024-11-23T15:07:13.061725Z"
    },
    "id": "GU16gtUZ52GN",
    "trusted": true
   },
   "outputs": [],
   "source": [
    "X_sample = X_unique[:1000]"
   ]
  },
  {
   "cell_type": "code",
   "execution_count": 5,
   "metadata": {
    "colab": {
     "base_uri": "https://localhost:8080/"
    },
    "execution": {
     "iopub.execute_input": "2024-11-23T15:07:13.069308Z",
     "iopub.status.busy": "2024-11-23T15:07:13.068549Z",
     "iopub.status.idle": "2024-11-23T15:07:58.982410Z",
     "shell.execute_reply": "2024-11-23T15:07:58.981214Z",
     "shell.execute_reply.started": "2024-11-23T15:07:13.069270Z"
    },
    "id": "eyyaCJY3pgGb",
    "outputId": "61b07984-209a-447a-a947-4f9c3960c571",
    "trusted": true
   },
   "outputs": [
    {
     "name": "stdout",
     "output_type": "stream",
     "text": [
      "Downloading data from https://storage.googleapis.com/tensorflow/keras-applications/mobilenet_v2/mobilenet_v2_weights_tf_dim_ordering_tf_kernels_1.0_224.h5\n",
      "14536120/14536120 [==============================] - 1s 0us/step\n",
      "[<keras.engine.input_layer.InputLayer object at 0x0000024ACDACBF40>, <keras.layers.convolutional.conv2d.Conv2D object at 0x0000024ACDADAE50>, <keras.layers.normalization.batch_normalization.BatchNormalization object at 0x0000024ACDADA700>, <keras.layers.activation.relu.ReLU object at 0x0000024ACDADAB50>, <keras.layers.convolutional.depthwise_conv2d.DepthwiseConv2D object at 0x0000024AF8332D90>, <keras.layers.normalization.batch_normalization.BatchNormalization object at 0x0000024A8AB6C6D0>, <keras.layers.activation.relu.ReLU object at 0x0000024A8AB6C700>, <keras.layers.convolutional.conv2d.Conv2D object at 0x0000024A8AB6C460>, <keras.layers.normalization.batch_normalization.BatchNormalization object at 0x0000024A8AB90850>, <keras.layers.convolutional.conv2d.Conv2D object at 0x0000024A8AB6C9D0>, <keras.layers.normalization.batch_normalization.BatchNormalization object at 0x0000024A8AB976A0>, <keras.layers.activation.relu.ReLU object at 0x0000024A8AB855E0>, <keras.layers.reshaping.zero_padding2d.ZeroPadding2D object at 0x0000024A8ABA1550>, <keras.layers.convolutional.depthwise_conv2d.DepthwiseConv2D object at 0x0000024A8ABA1100>, <keras.layers.normalization.batch_normalization.BatchNormalization object at 0x0000024A8ABAA460>, <keras.layers.activation.relu.ReLU object at 0x0000024A8ABB2700>, <keras.layers.convolutional.conv2d.Conv2D object at 0x0000024A8ABB2C10>, <keras.layers.normalization.batch_normalization.BatchNormalization object at 0x0000024A8ABB9640>, <keras.layers.convolutional.conv2d.Conv2D object at 0x0000024A8ABBF5E0>, <keras.layers.normalization.batch_normalization.BatchNormalization object at 0x0000024A8ABAA580>, <keras.layers.activation.relu.ReLU object at 0x0000024A8ABAA850>, <keras.layers.convolutional.depthwise_conv2d.DepthwiseConv2D object at 0x0000024A8ABC7F40>, <keras.layers.normalization.batch_normalization.BatchNormalization object at 0x0000024A8ABC4BE0>, <keras.layers.activation.relu.ReLU object at 0x0000024A8ABAA490>, <keras.layers.convolutional.conv2d.Conv2D object at 0x0000024A8ABD4D90>, <keras.layers.normalization.batch_normalization.BatchNormalization object at 0x0000024A8ABDCAF0>, <keras.layers.merging.add.Add object at 0x0000024A8ABDCAC0>, <keras.layers.convolutional.conv2d.Conv2D object at 0x0000024A8ABE0FD0>, <keras.layers.normalization.batch_normalization.BatchNormalization object at 0x0000024A8ABEAD90>, <keras.layers.activation.relu.ReLU object at 0x0000024A8ABE0100>, <keras.layers.reshaping.zero_padding2d.ZeroPadding2D object at 0x0000024A8ABD48B0>, <keras.layers.convolutional.depthwise_conv2d.DepthwiseConv2D object at 0x0000024A8ABF74C0>, <keras.layers.normalization.batch_normalization.BatchNormalization object at 0x0000024A8ABF7DC0>, <keras.layers.activation.relu.ReLU object at 0x0000024A8ABE0CA0>, <keras.layers.convolutional.conv2d.Conv2D object at 0x0000024A8ABEA880>, <keras.layers.normalization.batch_normalization.BatchNormalization object at 0x0000024A8AC025B0>, <keras.layers.convolutional.conv2d.Conv2D object at 0x0000024A8ABEE580>, <keras.layers.normalization.batch_normalization.BatchNormalization object at 0x0000024A8ABFDB80>, <keras.layers.activation.relu.ReLU object at 0x0000024A8ABB9760>, <keras.layers.convolutional.depthwise_conv2d.DepthwiseConv2D object at 0x0000024A8ABEAB50>, <keras.layers.normalization.batch_normalization.BatchNormalization object at 0x0000024A8AB973A0>, <keras.layers.activation.relu.ReLU object at 0x0000024A8AB90160>, <keras.layers.convolutional.conv2d.Conv2D object at 0x0000024AF8332CD0>, <keras.layers.normalization.batch_normalization.BatchNormalization object at 0x0000024A8AB9CCD0>, <keras.layers.merging.add.Add object at 0x0000024A8AB6C220>, <keras.layers.convolutional.conv2d.Conv2D object at 0x0000024A8AC11A90>, <keras.layers.normalization.batch_normalization.BatchNormalization object at 0x0000024A8AC09AC0>, <keras.layers.activation.relu.ReLU object at 0x0000024A8AC18130>, <keras.layers.convolutional.depthwise_conv2d.DepthwiseConv2D object at 0x0000024A8AC18CD0>, <keras.layers.normalization.batch_normalization.BatchNormalization object at 0x0000024A8AC1D340>, <keras.layers.activation.relu.ReLU object at 0x0000024A8AC22640>, <keras.layers.convolutional.conv2d.Conv2D object at 0x0000024A8AC22B50>, <keras.layers.normalization.batch_normalization.BatchNormalization object at 0x0000024A8AC2B4F0>, <keras.layers.merging.add.Add object at 0x0000024A8AC31580>, <keras.layers.convolutional.conv2d.Conv2D object at 0x0000024A8AC31A00>, <keras.layers.normalization.batch_normalization.BatchNormalization object at 0x0000024A8AC38760>, <keras.layers.activation.relu.ReLU object at 0x0000024A8AC3F670>, <keras.layers.reshaping.zero_padding2d.ZeroPadding2D object at 0x0000024A8AC3FC70>, <keras.layers.convolutional.depthwise_conv2d.DepthwiseConv2D object at 0x0000024A8AC2B8B0>, <keras.layers.normalization.batch_normalization.BatchNormalization object at 0x0000024A8AC4E280>, <keras.layers.activation.relu.ReLU object at 0x0000024A8AC4E5E0>, <keras.layers.convolutional.conv2d.Conv2D object at 0x0000024A8AC455E0>, <keras.layers.normalization.batch_normalization.BatchNormalization object at 0x0000024A8AC52490>, <keras.layers.convolutional.conv2d.Conv2D object at 0x0000024A8AC629A0>, <keras.layers.normalization.batch_normalization.BatchNormalization object at 0x0000024A8AC5E070>, <keras.layers.activation.relu.ReLU object at 0x0000024A8AC5E100>, <keras.layers.convolutional.depthwise_conv2d.DepthwiseConv2D object at 0x0000024A8AC6F430>, <keras.layers.normalization.batch_normalization.BatchNormalization object at 0x0000024A8AC6F940>, <keras.layers.activation.relu.ReLU object at 0x0000024A8AC6FA00>, <keras.layers.convolutional.conv2d.Conv2D object at 0x0000024A8AC79910>, <keras.layers.normalization.batch_normalization.BatchNormalization object at 0x0000024A8AC7D3D0>, <keras.layers.merging.add.Add object at 0x0000024A8AC45160>, <keras.layers.convolutional.conv2d.Conv2D object at 0x0000024A8AC660A0>, <keras.layers.normalization.batch_normalization.BatchNormalization object at 0x0000024A8AC7AB80>, <keras.layers.activation.relu.ReLU object at 0x0000024A8AC85250>, <keras.layers.convolutional.depthwise_conv2d.DepthwiseConv2D object at 0x0000024A8AC7D880>, <keras.layers.normalization.batch_normalization.BatchNormalization object at 0x0000024A8AC45940>, <keras.layers.activation.relu.ReLU object at 0x0000024A8AC45C10>, <keras.layers.convolutional.conv2d.Conv2D object at 0x0000024A8AC622E0>, <keras.layers.normalization.batch_normalization.BatchNormalization object at 0x0000024A8AC18190>, <keras.layers.merging.add.Add object at 0x0000024A8AC18760>, <keras.layers.convolutional.conv2d.Conv2D object at 0x0000024A8AC312B0>, <keras.layers.normalization.batch_normalization.BatchNormalization object at 0x0000024A8ABB9A30>, <keras.layers.activation.relu.ReLU object at 0x0000024A8ABC7670>, <keras.layers.convolutional.depthwise_conv2d.DepthwiseConv2D object at 0x0000024A8AC31190>, <keras.layers.normalization.batch_normalization.BatchNormalization object at 0x0000024A8AC929D0>, <keras.layers.activation.relu.ReLU object at 0x0000024A8AC09CD0>, <keras.layers.convolutional.conv2d.Conv2D object at 0x0000024A8AB32DF0>, <keras.layers.normalization.batch_normalization.BatchNormalization object at 0x0000024A8AC8ED90>, <keras.layers.merging.add.Add object at 0x0000024A8AC8EBE0>, <keras.layers.convolutional.conv2d.Conv2D object at 0x0000024A8AB32C40>, <keras.layers.normalization.batch_normalization.BatchNormalization object at 0x0000024A8DA21850>, <keras.layers.activation.relu.ReLU object at 0x0000024A8AB97310>, <keras.layers.convolutional.depthwise_conv2d.DepthwiseConv2D object at 0x0000024A8AC9BF40>, <keras.layers.normalization.batch_normalization.BatchNormalization object at 0x0000024A8DA295E0>, <keras.layers.activation.relu.ReLU object at 0x0000024A8AC9BF10>, <keras.layers.convolutional.conv2d.Conv2D object at 0x0000024A8DA248B0>, <keras.layers.normalization.batch_normalization.BatchNormalization object at 0x0000024A8DA384C0>, <keras.layers.convolutional.conv2d.Conv2D object at 0x0000024A8DA38490>, <keras.layers.normalization.batch_normalization.BatchNormalization object at 0x0000024A8DA2FFD0>, <keras.layers.activation.relu.ReLU object at 0x0000024A8DA2FEB0>, <keras.layers.convolutional.depthwise_conv2d.DepthwiseConv2D object at 0x0000024A8DA3DCD0>, <keras.layers.normalization.batch_normalization.BatchNormalization object at 0x0000024A8DA4B220>, <keras.layers.activation.relu.ReLU object at 0x0000024A8DA52490>, <keras.layers.convolutional.conv2d.Conv2D object at 0x0000024A8DA38EB0>, <keras.layers.normalization.batch_normalization.BatchNormalization object at 0x0000024A8DA3D730>, <keras.layers.merging.add.Add object at 0x0000024A8DA603A0>, <keras.layers.convolutional.conv2d.Conv2D object at 0x0000024A8DA60970>, <keras.layers.normalization.batch_normalization.BatchNormalization object at 0x0000024A8DA52730>, <keras.layers.activation.relu.ReLU object at 0x0000024A8DA6F4C0>, <keras.layers.convolutional.depthwise_conv2d.DepthwiseConv2D object at 0x0000024A8DA6FAC0>, <keras.layers.normalization.batch_normalization.BatchNormalization object at 0x0000024A8DA60310>, <keras.layers.activation.relu.ReLU object at 0x0000024A8DA38F40>, <keras.layers.convolutional.conv2d.Conv2D object at 0x0000024A8DA461C0>, <keras.layers.normalization.batch_normalization.BatchNormalization object at 0x0000024A8AC979D0>, <keras.layers.merging.add.Add object at 0x0000024A8ABB2B50>, <keras.layers.convolutional.conv2d.Conv2D object at 0x0000024A8AC38910>, <keras.layers.normalization.batch_normalization.BatchNormalization object at 0x0000024A8DA293A0>, <keras.layers.activation.relu.ReLU object at 0x0000024A8DA7B670>, <keras.layers.reshaping.zero_padding2d.ZeroPadding2D object at 0x0000024A8DA7BC70>, <keras.layers.convolutional.depthwise_conv2d.DepthwiseConv2D object at 0x0000024A8AB97340>, <keras.layers.normalization.batch_normalization.BatchNormalization object at 0x0000024A8DA7F280>, <keras.layers.activation.relu.ReLU object at 0x0000024A8DA7F5E0>, <keras.layers.convolutional.conv2d.Conv2D object at 0x0000024A8DA7D5E0>, <keras.layers.normalization.batch_normalization.BatchNormalization object at 0x0000024A8DA84490>, <keras.layers.convolutional.conv2d.Conv2D object at 0x0000024A8DA919A0>, <keras.layers.normalization.batch_normalization.BatchNormalization object at 0x0000024A8DA8C070>, <keras.layers.activation.relu.ReLU object at 0x0000024A8DA8C100>, <keras.layers.convolutional.depthwise_conv2d.DepthwiseConv2D object at 0x0000024A8DA9F430>, <keras.layers.normalization.batch_normalization.BatchNormalization object at 0x0000024A8DA9F940>, <keras.layers.activation.relu.ReLU object at 0x0000024A8DA9FA00>, <keras.layers.convolutional.conv2d.Conv2D object at 0x0000024A8DAA5910>, <keras.layers.normalization.batch_normalization.BatchNormalization object at 0x0000024A8DAAD3D0>, <keras.layers.merging.add.Add object at 0x0000024A8DA7D160>, <keras.layers.convolutional.conv2d.Conv2D object at 0x0000024A8DA98070>, <keras.layers.normalization.batch_normalization.BatchNormalization object at 0x0000024A8DAB73A0>, <keras.layers.activation.relu.ReLU object at 0x0000024A8DA98A60>, <keras.layers.convolutional.depthwise_conv2d.DepthwiseConv2D object at 0x0000024A8DAB5EB0>, <keras.layers.normalization.batch_normalization.BatchNormalization object at 0x0000024A8DAC53D0>, <keras.layers.activation.relu.ReLU object at 0x0000024A8DAB7040>, <keras.layers.convolutional.conv2d.Conv2D object at 0x0000024A8DAC2430>, <keras.layers.normalization.batch_normalization.BatchNormalization object at 0x0000024A8DAD3790>, <keras.layers.merging.add.Add object at 0x0000024A8DAC27C0>, <keras.layers.convolutional.conv2d.Conv2D object at 0x0000024A8DACFC40>, <keras.layers.normalization.batch_normalization.BatchNormalization object at 0x0000024A8DADF4C0>, <keras.layers.activation.relu.ReLU object at 0x0000024A8DADF490>, <keras.layers.convolutional.depthwise_conv2d.DepthwiseConv2D object at 0x0000024A8DADBD30>, <keras.layers.normalization.batch_normalization.BatchNormalization object at 0x0000024A92198F70>, <keras.layers.activation.relu.ReLU object at 0x0000024A8DADB130>, <keras.layers.convolutional.conv2d.Conv2D object at 0x0000024A8DAD37C0>, <keras.layers.normalization.batch_normalization.BatchNormalization object at 0x0000024A8DA9F550>, <keras.layers.convolutional.conv2d.Conv2D object at 0x0000024A8DAADC40>, <keras.layers.normalization.batch_normalization.BatchNormalization object at 0x0000024A8DA987C0>, <keras.layers.activation.relu.ReLU object at 0x0000024A8DA9F520>, <keras.layers.pooling.global_average_pooling2d.GlobalAveragePooling2D object at 0x0000024A8ABB2BB0>, <keras.layers.core.dense.Dense object at 0x0000024A8DA84E80>]\n"
     ]
    }
   ],
   "source": [
    "# Load pre-trained MBNV2 with the top layers included\n",
    "mbv2 = tf.keras.applications.MobileNetV2(include_top=True, weights='imagenet')\n",
    "mbv2.trainable = False  # Freeze the model\n",
    "\n",
    "print(mbv2.layers)\n",
    "# Extract the output from the GAP layer (input to the first FC layer)\n",
    "feature_extractor = tf.keras.Model(\n",
    "    inputs=mbv2.input,\n",
    "    outputs=mbv2.get_layer('global_average_pooling2d').output\n",
    ")\n",
    "\n",
    "# Define a function to preprocess images\n",
    "def preprocess_images(images):\n",
    "    \"\"\"\n",
    "    Preprocess a batch of images for VGG16:\n",
    "    - Resize to (224, 224)\n",
    "    - Scale pixel values to [0, 1]\n",
    "    - Normalize using ImageNet mean and std\n",
    "    - Stack into a single batch tensor\n",
    "    \"\"\"\n",
    "    preprocessed_batch = []\n",
    "    for img in images:\n",
    "        img = tf.image.resize(img, (224, 224))  # Resize to VGG input size\n",
    "        img = tf.keras.applications.mobilenet_v2.preprocess_input(img)\n",
    "        preprocessed_batch.append(img)\n",
    "    return tf.stack(preprocessed_batch, axis=0)  # Combine into a batch tensor\n",
    "\n",
    "# Assuming X_unique is provided\n",
    "features = []\n",
    "batch_size = 64  # Adjust batch size as per your hardware capability\n",
    "\n",
    "# Process images in batches\n",
    "for start in range(0, len(X_sample), batch_size):\n",
    "    end = start + batch_size\n",
    "    batch = X_sample[start:end]  # Get the batch of images\n",
    "\n",
    "    # Preprocess the batch of images\n",
    "    preprocessed_batch = preprocess_images(batch)\n",
    "\n",
    "    # Extract features for the batch\n",
    "    batch_features = feature_extractor(preprocessed_batch)\n",
    "    batch_features = batch_features.numpy()  # Convert to NumPy\n",
    "\n",
    "    # Append features to the list\n",
    "    features.extend(batch_features)"
   ]
  },
  {
   "cell_type": "code",
   "execution_count": 7,
   "metadata": {
    "colab": {
     "base_uri": "https://localhost:8080/"
    },
    "execution": {
     "iopub.execute_input": "2024-11-23T15:09:07.174812Z",
     "iopub.status.busy": "2024-11-23T15:09:07.174422Z",
     "iopub.status.idle": "2024-11-23T15:09:07.321517Z",
     "shell.execute_reply": "2024-11-23T15:09:07.320236Z",
     "shell.execute_reply.started": "2024-11-23T15:09:07.174778Z"
    },
    "id": "Z8pjvArwpik3",
    "outputId": "1b3d65d0-e860-4674-8c0e-7f7c84386e79",
    "trusted": true
   },
   "outputs": [
    {
     "name": "stdout",
     "output_type": "stream",
     "text": [
      "(1000, 1280)\n"
     ]
    }
   ],
   "source": [
    "features_df = []\n",
    "for i in range(int(len(features))):\n",
    "    features_df.append(features[i].tolist())\n",
    "\n",
    "features_df = np.asarray(features_df)\n",
    "print(features_df.shape)"
   ]
  },
  {
   "cell_type": "markdown",
   "metadata": {
    "id": "g-JcTKecnjIS"
   },
   "source": [
    "## PCA for dimension reduction\n",
    "We will keep only the first 3 components to be able to visualize the features in space. It will be a glance at how the model sees the data before sending it to its classifier."
   ]
  },
  {
   "cell_type": "code",
   "execution_count": 8,
   "metadata": {
    "colab": {
     "base_uri": "https://localhost:8080/",
     "height": 562
    },
    "execution": {
     "iopub.execute_input": "2024-11-23T15:11:11.616761Z",
     "iopub.status.busy": "2024-11-23T15:11:11.616349Z",
     "iopub.status.idle": "2024-11-23T15:11:11.864115Z",
     "shell.execute_reply": "2024-11-23T15:11:11.862972Z",
     "shell.execute_reply.started": "2024-11-23T15:11:11.616725Z"
    },
    "id": "PFG7SkrMr2VU",
    "outputId": "6d34eadb-3870-4577-a439-abb0da2d41ce",
    "trusted": true
   },
   "outputs": [
    {
     "data": {
      "application/vnd.plotly.v1+json": {
       "config": {
        "plotlyServerURL": "https://plot.ly"
       },
       "data": [
        {
         "type": "bar",
         "x": [
          1,
          2,
          3,
          4,
          5,
          6,
          7,
          8,
          9,
          10
         ],
         "y": [
          0.12952046559888272,
          0.0872533637421782,
          0.04811797380501778,
          0.03668078729229799,
          0.02997652987428735,
          0.026100440919742906,
          0.024551096996448585,
          0.02321512501182858,
          0.020222526956299818,
          0.018806179007485192
         ]
        }
       ],
       "layout": {
        "template": {
         "data": {
          "bar": [
           {
            "error_x": {
             "color": "#2a3f5f"
            },
            "error_y": {
             "color": "#2a3f5f"
            },
            "marker": {
             "line": {
              "color": "#E5ECF6",
              "width": 0.5
             },
             "pattern": {
              "fillmode": "overlay",
              "size": 10,
              "solidity": 0.2
             }
            },
            "type": "bar"
           }
          ],
          "barpolar": [
           {
            "marker": {
             "line": {
              "color": "#E5ECF6",
              "width": 0.5
             },
             "pattern": {
              "fillmode": "overlay",
              "size": 10,
              "solidity": 0.2
             }
            },
            "type": "barpolar"
           }
          ],
          "carpet": [
           {
            "aaxis": {
             "endlinecolor": "#2a3f5f",
             "gridcolor": "white",
             "linecolor": "white",
             "minorgridcolor": "white",
             "startlinecolor": "#2a3f5f"
            },
            "baxis": {
             "endlinecolor": "#2a3f5f",
             "gridcolor": "white",
             "linecolor": "white",
             "minorgridcolor": "white",
             "startlinecolor": "#2a3f5f"
            },
            "type": "carpet"
           }
          ],
          "choropleth": [
           {
            "colorbar": {
             "outlinewidth": 0,
             "ticks": ""
            },
            "type": "choropleth"
           }
          ],
          "contour": [
           {
            "colorbar": {
             "outlinewidth": 0,
             "ticks": ""
            },
            "colorscale": [
             [
              0,
              "#0d0887"
             ],
             [
              0.1111111111111111,
              "#46039f"
             ],
             [
              0.2222222222222222,
              "#7201a8"
             ],
             [
              0.3333333333333333,
              "#9c179e"
             ],
             [
              0.4444444444444444,
              "#bd3786"
             ],
             [
              0.5555555555555556,
              "#d8576b"
             ],
             [
              0.6666666666666666,
              "#ed7953"
             ],
             [
              0.7777777777777778,
              "#fb9f3a"
             ],
             [
              0.8888888888888888,
              "#fdca26"
             ],
             [
              1,
              "#f0f921"
             ]
            ],
            "type": "contour"
           }
          ],
          "contourcarpet": [
           {
            "colorbar": {
             "outlinewidth": 0,
             "ticks": ""
            },
            "type": "contourcarpet"
           }
          ],
          "heatmap": [
           {
            "colorbar": {
             "outlinewidth": 0,
             "ticks": ""
            },
            "colorscale": [
             [
              0,
              "#0d0887"
             ],
             [
              0.1111111111111111,
              "#46039f"
             ],
             [
              0.2222222222222222,
              "#7201a8"
             ],
             [
              0.3333333333333333,
              "#9c179e"
             ],
             [
              0.4444444444444444,
              "#bd3786"
             ],
             [
              0.5555555555555556,
              "#d8576b"
             ],
             [
              0.6666666666666666,
              "#ed7953"
             ],
             [
              0.7777777777777778,
              "#fb9f3a"
             ],
             [
              0.8888888888888888,
              "#fdca26"
             ],
             [
              1,
              "#f0f921"
             ]
            ],
            "type": "heatmap"
           }
          ],
          "heatmapgl": [
           {
            "colorbar": {
             "outlinewidth": 0,
             "ticks": ""
            },
            "colorscale": [
             [
              0,
              "#0d0887"
             ],
             [
              0.1111111111111111,
              "#46039f"
             ],
             [
              0.2222222222222222,
              "#7201a8"
             ],
             [
              0.3333333333333333,
              "#9c179e"
             ],
             [
              0.4444444444444444,
              "#bd3786"
             ],
             [
              0.5555555555555556,
              "#d8576b"
             ],
             [
              0.6666666666666666,
              "#ed7953"
             ],
             [
              0.7777777777777778,
              "#fb9f3a"
             ],
             [
              0.8888888888888888,
              "#fdca26"
             ],
             [
              1,
              "#f0f921"
             ]
            ],
            "type": "heatmapgl"
           }
          ],
          "histogram": [
           {
            "marker": {
             "pattern": {
              "fillmode": "overlay",
              "size": 10,
              "solidity": 0.2
             }
            },
            "type": "histogram"
           }
          ],
          "histogram2d": [
           {
            "colorbar": {
             "outlinewidth": 0,
             "ticks": ""
            },
            "colorscale": [
             [
              0,
              "#0d0887"
             ],
             [
              0.1111111111111111,
              "#46039f"
             ],
             [
              0.2222222222222222,
              "#7201a8"
             ],
             [
              0.3333333333333333,
              "#9c179e"
             ],
             [
              0.4444444444444444,
              "#bd3786"
             ],
             [
              0.5555555555555556,
              "#d8576b"
             ],
             [
              0.6666666666666666,
              "#ed7953"
             ],
             [
              0.7777777777777778,
              "#fb9f3a"
             ],
             [
              0.8888888888888888,
              "#fdca26"
             ],
             [
              1,
              "#f0f921"
             ]
            ],
            "type": "histogram2d"
           }
          ],
          "histogram2dcontour": [
           {
            "colorbar": {
             "outlinewidth": 0,
             "ticks": ""
            },
            "colorscale": [
             [
              0,
              "#0d0887"
             ],
             [
              0.1111111111111111,
              "#46039f"
             ],
             [
              0.2222222222222222,
              "#7201a8"
             ],
             [
              0.3333333333333333,
              "#9c179e"
             ],
             [
              0.4444444444444444,
              "#bd3786"
             ],
             [
              0.5555555555555556,
              "#d8576b"
             ],
             [
              0.6666666666666666,
              "#ed7953"
             ],
             [
              0.7777777777777778,
              "#fb9f3a"
             ],
             [
              0.8888888888888888,
              "#fdca26"
             ],
             [
              1,
              "#f0f921"
             ]
            ],
            "type": "histogram2dcontour"
           }
          ],
          "mesh3d": [
           {
            "colorbar": {
             "outlinewidth": 0,
             "ticks": ""
            },
            "type": "mesh3d"
           }
          ],
          "parcoords": [
           {
            "line": {
             "colorbar": {
              "outlinewidth": 0,
              "ticks": ""
             }
            },
            "type": "parcoords"
           }
          ],
          "pie": [
           {
            "automargin": true,
            "type": "pie"
           }
          ],
          "scatter": [
           {
            "fillpattern": {
             "fillmode": "overlay",
             "size": 10,
             "solidity": 0.2
            },
            "type": "scatter"
           }
          ],
          "scatter3d": [
           {
            "line": {
             "colorbar": {
              "outlinewidth": 0,
              "ticks": ""
             }
            },
            "marker": {
             "colorbar": {
              "outlinewidth": 0,
              "ticks": ""
             }
            },
            "type": "scatter3d"
           }
          ],
          "scattercarpet": [
           {
            "marker": {
             "colorbar": {
              "outlinewidth": 0,
              "ticks": ""
             }
            },
            "type": "scattercarpet"
           }
          ],
          "scattergeo": [
           {
            "marker": {
             "colorbar": {
              "outlinewidth": 0,
              "ticks": ""
             }
            },
            "type": "scattergeo"
           }
          ],
          "scattergl": [
           {
            "marker": {
             "colorbar": {
              "outlinewidth": 0,
              "ticks": ""
             }
            },
            "type": "scattergl"
           }
          ],
          "scattermapbox": [
           {
            "marker": {
             "colorbar": {
              "outlinewidth": 0,
              "ticks": ""
             }
            },
            "type": "scattermapbox"
           }
          ],
          "scatterpolar": [
           {
            "marker": {
             "colorbar": {
              "outlinewidth": 0,
              "ticks": ""
             }
            },
            "type": "scatterpolar"
           }
          ],
          "scatterpolargl": [
           {
            "marker": {
             "colorbar": {
              "outlinewidth": 0,
              "ticks": ""
             }
            },
            "type": "scatterpolargl"
           }
          ],
          "scatterternary": [
           {
            "marker": {
             "colorbar": {
              "outlinewidth": 0,
              "ticks": ""
             }
            },
            "type": "scatterternary"
           }
          ],
          "surface": [
           {
            "colorbar": {
             "outlinewidth": 0,
             "ticks": ""
            },
            "colorscale": [
             [
              0,
              "#0d0887"
             ],
             [
              0.1111111111111111,
              "#46039f"
             ],
             [
              0.2222222222222222,
              "#7201a8"
             ],
             [
              0.3333333333333333,
              "#9c179e"
             ],
             [
              0.4444444444444444,
              "#bd3786"
             ],
             [
              0.5555555555555556,
              "#d8576b"
             ],
             [
              0.6666666666666666,
              "#ed7953"
             ],
             [
              0.7777777777777778,
              "#fb9f3a"
             ],
             [
              0.8888888888888888,
              "#fdca26"
             ],
             [
              1,
              "#f0f921"
             ]
            ],
            "type": "surface"
           }
          ],
          "table": [
           {
            "cells": {
             "fill": {
              "color": "#EBF0F8"
             },
             "line": {
              "color": "white"
             }
            },
            "header": {
             "fill": {
              "color": "#C8D4E3"
             },
             "line": {
              "color": "white"
             }
            },
            "type": "table"
           }
          ]
         },
         "layout": {
          "annotationdefaults": {
           "arrowcolor": "#2a3f5f",
           "arrowhead": 0,
           "arrowwidth": 1
          },
          "autotypenumbers": "strict",
          "coloraxis": {
           "colorbar": {
            "outlinewidth": 0,
            "ticks": ""
           }
          },
          "colorscale": {
           "diverging": [
            [
             0,
             "#8e0152"
            ],
            [
             0.1,
             "#c51b7d"
            ],
            [
             0.2,
             "#de77ae"
            ],
            [
             0.3,
             "#f1b6da"
            ],
            [
             0.4,
             "#fde0ef"
            ],
            [
             0.5,
             "#f7f7f7"
            ],
            [
             0.6,
             "#e6f5d0"
            ],
            [
             0.7,
             "#b8e186"
            ],
            [
             0.8,
             "#7fbc41"
            ],
            [
             0.9,
             "#4d9221"
            ],
            [
             1,
             "#276419"
            ]
           ],
           "sequential": [
            [
             0,
             "#0d0887"
            ],
            [
             0.1111111111111111,
             "#46039f"
            ],
            [
             0.2222222222222222,
             "#7201a8"
            ],
            [
             0.3333333333333333,
             "#9c179e"
            ],
            [
             0.4444444444444444,
             "#bd3786"
            ],
            [
             0.5555555555555556,
             "#d8576b"
            ],
            [
             0.6666666666666666,
             "#ed7953"
            ],
            [
             0.7777777777777778,
             "#fb9f3a"
            ],
            [
             0.8888888888888888,
             "#fdca26"
            ],
            [
             1,
             "#f0f921"
            ]
           ],
           "sequentialminus": [
            [
             0,
             "#0d0887"
            ],
            [
             0.1111111111111111,
             "#46039f"
            ],
            [
             0.2222222222222222,
             "#7201a8"
            ],
            [
             0.3333333333333333,
             "#9c179e"
            ],
            [
             0.4444444444444444,
             "#bd3786"
            ],
            [
             0.5555555555555556,
             "#d8576b"
            ],
            [
             0.6666666666666666,
             "#ed7953"
            ],
            [
             0.7777777777777778,
             "#fb9f3a"
            ],
            [
             0.8888888888888888,
             "#fdca26"
            ],
            [
             1,
             "#f0f921"
            ]
           ]
          },
          "colorway": [
           "#636efa",
           "#EF553B",
           "#00cc96",
           "#ab63fa",
           "#FFA15A",
           "#19d3f3",
           "#FF6692",
           "#B6E880",
           "#FF97FF",
           "#FECB52"
          ],
          "font": {
           "color": "#2a3f5f"
          },
          "geo": {
           "bgcolor": "white",
           "lakecolor": "white",
           "landcolor": "#E5ECF6",
           "showlakes": true,
           "showland": true,
           "subunitcolor": "white"
          },
          "hoverlabel": {
           "align": "left"
          },
          "hovermode": "closest",
          "mapbox": {
           "style": "light"
          },
          "paper_bgcolor": "white",
          "plot_bgcolor": "#E5ECF6",
          "polar": {
           "angularaxis": {
            "gridcolor": "white",
            "linecolor": "white",
            "ticks": ""
           },
           "bgcolor": "#E5ECF6",
           "radialaxis": {
            "gridcolor": "white",
            "linecolor": "white",
            "ticks": ""
           }
          },
          "scene": {
           "xaxis": {
            "backgroundcolor": "#E5ECF6",
            "gridcolor": "white",
            "gridwidth": 2,
            "linecolor": "white",
            "showbackground": true,
            "ticks": "",
            "zerolinecolor": "white"
           },
           "yaxis": {
            "backgroundcolor": "#E5ECF6",
            "gridcolor": "white",
            "gridwidth": 2,
            "linecolor": "white",
            "showbackground": true,
            "ticks": "",
            "zerolinecolor": "white"
           },
           "zaxis": {
            "backgroundcolor": "#E5ECF6",
            "gridcolor": "white",
            "gridwidth": 2,
            "linecolor": "white",
            "showbackground": true,
            "ticks": "",
            "zerolinecolor": "white"
           }
          },
          "shapedefaults": {
           "line": {
            "color": "#2a3f5f"
           }
          },
          "ternary": {
           "aaxis": {
            "gridcolor": "white",
            "linecolor": "white",
            "ticks": ""
           },
           "baxis": {
            "gridcolor": "white",
            "linecolor": "white",
            "ticks": ""
           },
           "bgcolor": "#E5ECF6",
           "caxis": {
            "gridcolor": "white",
            "linecolor": "white",
            "ticks": ""
           }
          },
          "title": {
           "x": 0.05
          },
          "xaxis": {
           "automargin": true,
           "gridcolor": "white",
           "linecolor": "white",
           "ticks": "",
           "title": {
            "standoff": 15
           },
           "zerolinecolor": "white",
           "zerolinewidth": 2
          },
          "yaxis": {
           "automargin": true,
           "gridcolor": "white",
           "linecolor": "white",
           "ticks": "",
           "title": {
            "standoff": 15
           },
           "zerolinecolor": "white",
           "zerolinewidth": 2
          }
         }
        },
        "title": {
         "text": "PCA scree plot"
        },
        "xaxis": {
         "tickmode": "array",
         "tickvals": [
          1,
          2,
          3,
          4,
          5,
          6,
          7,
          8,
          9,
          10
         ],
         "title": {
          "text": "Principle Component"
         }
        },
        "yaxis": {
         "title": {
          "text": "Explained Variance Ratio"
         }
        }
       }
      }
     },
     "metadata": {},
     "output_type": "display_data"
    }
   ],
   "source": [
    "N_COMPONENTS = 10\n",
    "\n",
    "pca = PCA(n_components=N_COMPONENTS)\n",
    "pca.fit(features_df)\n",
    "x = list(range(1, N_COMPONENTS+1))\n",
    "y = pca.explained_variance_ratio_\n",
    "fig = go.Figure()\n",
    "fig.add_trace(\n",
    "    go.Bar(\n",
    "        x=x,\n",
    "        y=y\n",
    "    )\n",
    ")\n",
    "fig.update_layout(\n",
    "    title_text='PCA scree plot',\n",
    "    xaxis=dict(title_text='Principle Component',\n",
    "               tickmode='array', tickvals=x),\n",
    "    yaxis=dict(title_text='Explained Variance Ratio'),\n",
    ")"
   ]
  },
  {
   "cell_type": "markdown",
   "metadata": {
    "id": "Ymz8pG0JnjIT"
   },
   "source": [
    "We can clearly see how some classes are much more easily separable in this space than others. The Immature Granulocytes for example are difficult to distinguish from Monocytes, Basophils and Eosinophils for example."
   ]
  },
  {
   "cell_type": "code",
   "execution_count": 10,
   "metadata": {
    "colab": {
     "base_uri": "https://localhost:8080/",
     "height": 562
    },
    "execution": {
     "iopub.execute_input": "2024-11-23T15:11:15.104318Z",
     "iopub.status.busy": "2024-11-23T15:11:15.103175Z",
     "iopub.status.idle": "2024-11-23T15:11:16.864823Z",
     "shell.execute_reply": "2024-11-23T15:11:16.863491Z",
     "shell.execute_reply.started": "2024-11-23T15:11:15.104273Z"
    },
    "id": "sZWxJoVSr7Ts",
    "outputId": "cecc3d51-6490-491e-b70f-d8ea0eddb4ad",
    "trusted": true
   },
   "outputs": [
    {
     "data": {
      "application/vnd.plotly.v1+json": {
       "config": {
        "plotlyServerURL": "https://plot.ly"
       },
       "data": [
        {
         "hovertemplate": "color=Platelet<br>PC1 (0.13)=%{x}<br>PC2 (0.09)=%{y}<br>PC3 (0.05)=%{z}<extra></extra>",
         "legendgroup": "Platelet",
         "marker": {
          "color": "#636efa",
          "size": 4,
          "symbol": "circle"
         },
         "mode": "markers",
         "name": "Platelet",
         "scene": "scene",
         "showlegend": true,
         "type": "scatter3d",
         "x": [
          7.912195211242766,
          6.7284968589398595,
          9.25871531889553,
          10.341124749017794,
          12.187580968929831,
          11.403102004334917,
          8.63421065772745,
          9.285694351189953,
          10.583618299812997,
          6.77585097613334,
          12.311958817420656,
          10.445726997921165,
          4.9000745161804975,
          12.140790950578383,
          10.020528484571564,
          6.876624020235418,
          8.697484778946421,
          8.921155200832185,
          7.611771013088815,
          9.667557128759903,
          10.14929002805408,
          11.391005655874935,
          12.043487294229958,
          7.223328569053107,
          8.748642010731743,
          10.287957621293328,
          4.435937805801899,
          9.918579500775369,
          6.757313949270999,
          10.306280903629242,
          7.4063374308599315,
          13.239289860190604,
          5.301965183328665,
          7.488680773593781,
          6.441211212842081,
          4.189905569153209,
          5.799894844813238,
          10.862857472565343,
          7.98021863574312,
          8.090102138666184,
          12.37943284420081,
          10.819261335117622,
          12.342247283732556,
          14.032434292004462,
          11.93446140707976,
          8.977401164153749,
          12.039975410137739,
          8.69847502779156,
          12.236740532942429,
          7.83884401876511,
          2.4376638361535266,
          10.097966398261745,
          8.837705055071787,
          6.9986574475579655,
          10.131272016556078,
          10.435818133461389,
          11.715822872856785,
          12.21791998885607,
          12.184307807442641,
          6.51423340348093,
          8.470346834741658,
          12.650578886977893,
          10.063986931486172,
          9.224948601322303,
          6.218463387858996,
          13.310253625388954,
          8.460283672878676,
          9.371171000255876,
          7.6245970445353715,
          10.047611700533745,
          12.930727722863297,
          9.142013959683203,
          9.0416481530191,
          8.697010483315651,
          13.512502140990291,
          13.355638437993619,
          11.525778357545105,
          11.129113582507372,
          14.023418213221946,
          10.730877666559824,
          9.798121203156798,
          14.41106630663415,
          14.688957061163421,
          5.061193119370871,
          10.616309741506965,
          10.490608655704513,
          10.918983583834981,
          11.53456691317848,
          8.111304123637998,
          2.9017231984775997,
          7.786127693248158,
          9.021150424977382,
          9.47260985861965,
          11.262422169526554,
          8.220046395958262,
          9.032736637203849,
          11.772479468512053,
          11.208740129706312,
          11.310599685443586,
          6.8741220768320535,
          6.4955552489234165,
          10.522569727494554,
          11.202085136066014,
          7.515418304102331,
          10.059020769952797,
          10.900792011830848,
          10.63604273369464,
          10.474573138929786,
          8.333522500212863,
          9.989126634896103,
          12.693666542777494,
          10.31924230350686,
          9.165663069898086,
          12.427679321143476,
          8.905290074929443,
          9.520769755223288,
          7.136035384813194,
          12.216679190809016,
          11.058389231507473,
          13.272091580736872,
          11.52772515763232,
          6.747389765402344,
          13.067650668162996,
          6.877231360765636,
          10.332994798790292,
          10.431124381452197,
          8.661500348521972,
          8.43331977258016,
          10.84564478484068,
          11.67729376441863,
          7.960917806677138
         ],
         "y": [
          -3.2128674165538,
          4.246593800597453,
          -0.14240092840274257,
          -1.30984186491489,
          -1.79006573623782,
          -1.0743108627205271,
          -1.6036356155612008,
          -1.064382873940807,
          -4.447117499420661,
          -3.5203517826759754,
          -0.548931150348641,
          -3.8526919233774386,
          -2.638258807151878,
          -1.5018354575993955,
          -1.1440158341100628,
          -2.531300580749531,
          -3.0178279790524574,
          -3.956269700942489,
          -4.361680965451889,
          -2.972080308858846,
          -2.2541467933489527,
          -3.0154099189121712,
          -1.085860079646001,
          -0.3503376111681861,
          -2.977292556100466,
          -1.20808936390148,
          -2.7617195140618604,
          -1.7353336056287134,
          1.0748274727873475,
          -1.302316674880308,
          -0.24043828193599284,
          -3.3024235439868677,
          2.041476156891696,
          2.4171015380423113,
          -2.036686774969707,
          0.4773809316891998,
          -2.89609524504735,
          -2.3033036105341833,
          -0.22119281581966863,
          -1.8465084296651022,
          -1.4686089387423311,
          -2.8134080925355254,
          -2.290508817908541,
          -2.768661261820171,
          -0.47920137090021064,
          -1.7779379078396509,
          0.8338110796649434,
          -2.7152982766828417,
          -0.047340374969952775,
          -1.817776470349259,
          -2.3482819298504984,
          -0.6008442194963329,
          -2.943270884684682,
          -0.7636712250196622,
          -2.331031181500429,
          -0.8603246117080615,
          -1.631635411931843,
          -2.8436700426298525,
          0.10388215378627416,
          -2.787909076668392,
          -1.1192963819432533,
          -2.365925198792541,
          -2.5733977281112725,
          -1.8831985334541153,
          -4.392963476338762,
          -2.5226204069529237,
          0.9282089946659251,
          1.8915277247318787,
          -4.238145967907808,
          -1.2414960804717976,
          0.8438273015953928,
          -0.08004438849010997,
          -3.4433822129432636,
          1.976703687759079,
          -1.4397052340424927,
          -2.8524500970907383,
          -1.2062892988115528,
          -4.5481576398030406,
          -2.8329253596448654,
          -0.3516095029156922,
          -2.2260155112511253,
          -2.2741446190796246,
          -1.5238388801642397,
          -0.5396471695753676,
          1.9893394374408049,
          -3.9546399865423782,
          -2.3819522321396676,
          -1.809601706457089,
          -4.33755900300174,
          0.3702147627918859,
          -0.20809897366284502,
          2.038341150168912,
          -2.2721048602450815,
          -1.9961756456585387,
          -1.7524277137838085,
          -0.05202285116430985,
          0.06296291643311405,
          -1.5466451735006483,
          -0.8124943306722912,
          -1.7582651743426503,
          -2.068539970991912,
          -0.7029548817756686,
          -0.15763008315571242,
          -1.699813977590138,
          -4.599947493347349,
          -2.0196329807910463,
          -3.039772971067512,
          -0.22310981086131376,
          -5.999976323624104,
          -2.5213122968679413,
          -0.23727462941354546,
          -2.162351001087005,
          3.0457126712762137,
          -3.404328382077837,
          -1.8804309265447685,
          -0.26069575246462134,
          -4.274716727536087,
          -4.4600531227303355,
          0.539113699480297,
          -1.0894940510915903,
          -1.195475066662579,
          -3.386805474026205,
          -3.6611754661320717,
          1.1182135289896635,
          -2.7105170530954936,
          -0.9861224621291202,
          -1.849502387825767,
          -3.5115495827656478,
          -2.175521264842224,
          -4.756870675736045,
          0.0847277189456716
         ],
         "z": [
          1.7818853254817624,
          6.478651866703466,
          -0.8552421281327939,
          1.0741354155307778,
          -0.7019805678449447,
          4.618107937573037,
          2.5790171830024096,
          0.3158361969577018,
          2.379493464372998,
          2.652933468443543,
          0.10515372797721187,
          0.6336395019254651,
          3.084718084805728,
          1.921815331187999,
          0.16539977763688202,
          -0.6340162944097447,
          2.3037911617406746,
          0.74324360911239,
          2.2543987069957474,
          -2.2674401935627335,
          1.9594172799260954,
          0.7874413580803623,
          1.3550413428608192,
          3.3697483066465925,
          1.401808749583799,
          1.203153829267603,
          3.048255603724982,
          -0.04659285850929387,
          0.12587708462960748,
          2.1469021500254626,
          3.3268403897059633,
          1.3176883582890424,
          1.1487244225536464,
          4.022592587039921,
          2.7823487686975854,
          4.472014057340309,
          3.4788614760327152,
          -1.5852738473364298,
          5.521962036435552,
          -1.0135875761182267,
          0.9894272978372195,
          2.4364655780503592,
          -1.121673021874603,
          3.9556290151447873,
          -0.7112688581530855,
          -1.9780084338845991,
          3.6622963267171253,
          -2.3526693754787438,
          0.010574499691436881,
          2.757092035910819,
          6.4226094149177975,
          2.2287734817578224,
          5.649021896359141,
          6.483194340552927,
          -1.4655495113811456,
          1.4232560651644024,
          0.37220697262926206,
          1.0532449643218298,
          -0.6621344934854277,
          2.311202987682494,
          2.4732571576388658,
          -0.3538504236753642,
          0.1870375421006759,
          2.0949427410895654,
          -1.2312647817179294,
          0.4052208849505584,
          1.6018741818654703,
          5.898856982302129,
          -0.14398242796051738,
          1.176976704575194,
          0.15811330132824486,
          3.3281679792543657,
          2.8236782670457212,
          5.978013945960144,
          0.733369607627854,
          4.323162655670991,
          0.6344992918664907,
          -1.1644765898960014,
          1.8671269510353816,
          -0.27592260777537514,
          0.28040085209529375,
          0.8565797833828315,
          0.9091175694034428,
          2.452705253853675,
          -0.08971244085249166,
          0.9087681690684336,
          0.7639195050087128,
          1.1038378602999126,
          4.125023245749975,
          4.681592646143302,
          1.2477548116167532,
          -0.46729656872045394,
          0.37168361804207667,
          1.8372582620742146,
          4.247504662891723,
          2.638253784034598,
          -0.26102397168515035,
          1.788231850666075,
          1.8408140517879081,
          0.4044972169902791,
          2.62292707335699,
          -0.8782095092595678,
          1.2366282387148166,
          1.7489918505110933,
          -1.519917471017777,
          4.651052764073621,
          2.9065754101005035,
          2.0686303276072735,
          2.7336611019736585,
          -1.0107148183348575,
          1.5265926096365907,
          4.481693991417883,
          0.9627630234431358,
          3.048829791098515,
          0.6741720256600268,
          -1.3573528312087735,
          2.277613219714937,
          3.225562471696251,
          0.24002921216177642,
          2.9768508596678385,
          -0.10121838641867945,
          7.825837298547105,
          2.097711628449523,
          3.5582778990978365,
          -2.0473420433897016,
          1.6998244731746157,
          2.112830223953889,
          1.7144434216374789,
          -1.6071196694278131,
          -0.24622426055581775,
          1.076520012387284
         ]
        },
        {
         "hovertemplate": "color=Immature granulocytes<br>PC1 (0.13)=%{x}<br>PC2 (0.09)=%{y}<br>PC3 (0.05)=%{z}<extra></extra>",
         "legendgroup": "Immature granulocytes",
         "marker": {
          "color": "#EF553B",
          "size": 4,
          "symbol": "circle"
         },
         "mode": "markers",
         "name": "Immature granulocytes",
         "scene": "scene",
         "showlegend": true,
         "type": "scatter3d",
         "x": [
          -6.22505931019195,
          -3.263082696072972,
          -6.238482543917284,
          -4.725454719965217,
          0.5047193022158889,
          -6.999025664590068,
          2.585055053125889,
          -5.145089872705459,
          -2.6919270754515807,
          0.876196745887093,
          -4.314066320751747,
          1.7454449953025917,
          -2.1507687906087445,
          -9.124975465769783,
          -3.6719044157637155,
          -3.154333235416903,
          -0.9313158273040153,
          2.0822212322562654,
          2.052337520743231,
          -4.854356520058122,
          -5.078493304990154,
          -1.1303977193618786,
          -1.5614639978792262,
          -8.897882002180477,
          0.7744190660410373,
          -5.82411364066915,
          -2.5513237746079773,
          -1.3694290110143903,
          -2.900971504646987,
          1.5065377224383645,
          -3.055313691901233,
          -5.19311554381542,
          0.03963983186646389,
          -1.0561919335116043,
          -1.1426226141379285,
          0.09178375486514834,
          -0.7622611303701065,
          0.5466188913436357,
          -4.714887272851161,
          -3.2802269251398477,
          -8.27744866141048,
          -1.1345052564211613,
          -6.250755654293848,
          1.8713661907911707,
          0.17861595406686542,
          -4.416274513424684,
          -2.966079070735577,
          -5.42755856438947,
          -3.3820298457195546,
          0.7939508204636252,
          1.871432040919062,
          -4.279685808999608,
          0.11639383554583002,
          -8.352443940596277,
          -5.1478129202036955,
          -5.883447555586286,
          1.086306009805854,
          -0.6343503695472977,
          -7.894743900425188,
          -4.7830396212910085,
          0.33208382573304157,
          -1.5862500955760548,
          2.725801037203868,
          0.4493293456054554,
          -4.9464875427746255,
          -7.671236242421912,
          -3.923328892112485,
          -2.7695991723031828,
          -0.3181450890286037,
          -0.8344462266155406,
          -1.7160029384014208,
          4.654262240651653,
          3.599710758742347,
          2.7519211218365,
          -2.066446551054045,
          1.8911015954070955,
          2.3720985867793316,
          7.924214453617351,
          0.9580881198170551,
          -3.2887336508763227,
          -6.710355253144881,
          -3.2907473522785224,
          -0.9971018004285154,
          0.1274707375461503,
          -3.223190733901449,
          -2.4598208083075197,
          -3.7268970164529747,
          -2.2576421330657586,
          -0.3146816944657058,
          -0.30487565476206724,
          -4.433587664906407,
          -3.5325954432649036,
          0.46019866950037225,
          2.0946832281917502,
          -3.826610112185033,
          5.253588644224613,
          2.2310106212883385,
          -3.853898806771516,
          -0.02083519617624085,
          -5.95743103876059,
          -8.437943442658291,
          -6.82735888752943,
          8.1707275655313,
          -2.6194634552531917,
          -4.834620217016013,
          2.0813081195617693,
          -7.092502719830365,
          0.6623351253262117,
          -4.654468660718491,
          -3.1052404402437563,
          -3.0940425363449346,
          -1.5252748373980873,
          3.9971852089516684,
          1.5503074902832576,
          -2.5669509766323113,
          -2.825067299036461,
          -4.253245342718918,
          2.6010203873695636,
          1.1738957384822402,
          -4.027463237634398,
          0.6572745738391689,
          -5.7450642814158535,
          3.5952305475766857,
          -4.218563386089426,
          -1.0974239468251068,
          -1.07024391493455,
          -2.675042586062643,
          -6.389437358881779,
          -4.596836098803854,
          -2.007696618128113,
          -1.041454416903066,
          -7.487342098220142,
          -0.06616294050257687,
          0.4545181872605311,
          -2.936274898220438,
          -0.5524958309671462,
          0.12515940983684543,
          -3.0719943119510624,
          2.52387325534133,
          -4.6155578473808925,
          -0.5079577692386537,
          -1.5437377154347203,
          -2.7481687309676004,
          -3.061342569277295,
          1.9036305927427244,
          -6.176085681661354,
          0.8475940547882905,
          -7.9825189150514815,
          -7.350752314193836,
          -2.8295576329382794,
          0.5536700781415537,
          -2.482456125025211,
          0.40900567108202945,
          3.4708994127210318,
          -1.0415285511252113,
          -3.307436152564323,
          -0.08719716362045657,
          -3.5980808937575444,
          -8.163075774454484,
          -4.466534508834447,
          3.698039731482399,
          -3.3394114335848895,
          -0.4487681150054341,
          -1.9062802839950308,
          0.3461466062370958,
          -2.311232884355013,
          -2.265681375900389,
          -3.035983060916241,
          -3.6352068082081934,
          -5.320012235546076,
          -4.98223402577531,
          -0.1733585603874298,
          -0.06309702495981467,
          -4.747560768446586,
          -1.5519651574030127,
          -8.104409151012536,
          -2.89479471173544,
          1.1429442170804374,
          -2.127018926646446,
          -7.342233137319788,
          -3.9836323597034817,
          -4.8499579397610475,
          -8.45622785069197,
          2.586814544103783,
          -1.8080188937718789,
          -1.8172092662775041,
          -4.539548680949627,
          0.9098338231412975,
          -0.5750905461762508,
          -4.277691226415313,
          -0.939692072008024,
          -7.117869743086112,
          -7.541621393276298,
          2.8353276485240637,
          -4.956637223885385,
          1.7144843869472863
         ],
         "y": [
          6.7030300718655385,
          10.421418196018676,
          4.917762834297598,
          0.5858329130074876,
          3.714871403059914,
          6.241817680673345,
          8.47241026702448,
          6.048086710019917,
          10.508479984593922,
          10.806760349761987,
          9.98265423905504,
          2.9217176487760166,
          -1.3393079042235623,
          1.3225431828284915,
          11.368695887598575,
          -0.3181481688897995,
          7.776991708549198,
          1.18360385565376,
          7.545572792994389,
          7.338687085773727,
          12.606897778532657,
          8.273929123757554,
          9.768527510293234,
          5.496896846251173,
          6.959738380148105,
          -0.18606530588645437,
          5.944440765777864,
          5.469621420337799,
          8.773631141568313,
          5.459060265620797,
          3.2599160713682385,
          9.028714223645089,
          10.214575001758966,
          3.643970184296483,
          4.57988130768314,
          6.702597075278376,
          10.768687354058233,
          11.04075922496278,
          -0.4105041082529277,
          7.845731873605224,
          3.261304553541817,
          0.18924536254642493,
          1.671316443338018,
          -2.8642617110354096,
          4.862734026022412,
          9.875685034370557,
          10.040962586419345,
          -0.09876661625778449,
          2.2032381079330814,
          6.083560901507704,
          -0.07588485805832648,
          3.7960714122103507,
          1.2251989585301706,
          1.1691844564141374,
          -1.8208224602548957,
          6.305262100293747,
          0.7324568053376402,
          4.476078869481791,
          10.601636144697078,
          2.8205871494677415,
          5.70811105852849,
          10.635962045207354,
          5.427041495746877,
          7.716083536047516,
          8.608595034036398,
          3.65312448788483,
          3.519812327676118,
          7.233983026985754,
          3.8282098486841742,
          6.378311596234487,
          -7.284840541605244,
          1.1140219088713454,
          0.07599261216752234,
          3.8726128374073685,
          3.4023806499747815,
          2.8146507928096964,
          2.8824989308279054,
          -0.14477160314505788,
          -2.4093005416911737,
          9.843632439463303,
          2.629125752032693,
          0.2989629119663048,
          4.081908542560675,
          8.179487117972105,
          3.774866771600595,
          0.577459206365322,
          4.880211481088982,
          3.7299303110646482,
          5.829183014603307,
          10.537907995108146,
          1.6001849942022714,
          -0.17688856474989062,
          -1.5578075549292134,
          0.6087224989017822,
          3.7883228192608875,
          8.55819714244711,
          7.207389745485164,
          0.5052842024756937,
          2.0152452782133734,
          9.195161100278536,
          5.255851301071344,
          3.829728966308653,
          1.9111517782145788,
          5.668634067100637,
          9.109689975711051,
          7.144939805480627,
          -2.351167566099689,
          9.021435434245413,
          -3.693591186355272,
          2.9377826003947374,
          5.052431830745386,
          9.005782151082133,
          -3.832616354463254,
          10.608892533103528,
          6.647450698401887,
          5.983458159814012,
          7.411908656826995,
          1.1444749879411267,
          7.6241732217237725,
          7.600155271961865,
          10.655972202241845,
          -6.482263473815974,
          3.166912405382472,
          5.171621193474079,
          3.9409599085913305,
          7.004697455770614,
          8.325954647361986,
          6.433476115998701,
          1.6480460572449165,
          6.4108085739574046,
          6.570157444509689,
          7.329728011214432,
          3.7632433468631175,
          -0.03896264003472369,
          6.488764910124467,
          2.7709876614524975,
          3.4734663255969274,
          -1.8886521505795997,
          5.266751734218111,
          10.29790114137501,
          1.1160282112207125,
          0.8357983661049584,
          5.05261245598176,
          -2.3540745687272957,
          10.929520087638705,
          3.6713571119535384,
          -1.283346098598353,
          5.943618950977239,
          3.336265829258595,
          3.4531811778143435,
          7.032792157997772,
          2.218723073319245,
          5.207423268188244,
          5.194519563497559,
          -0.10019445807434782,
          3.0496548935349743,
          9.511194843895009,
          1.6848095321732386,
          2.0959438272176727,
          5.251151532164556,
          -0.5929894851017579,
          2.6271956496091886,
          9.92307765932944,
          5.964842042301492,
          2.2689014810567545,
          0.605486477480805,
          4.8347083190910825,
          1.816491472298676,
          0.798661914954156,
          3.4227471070152586,
          6.978437825021734,
          -0.18511249681863431,
          10.225896820404344,
          5.172803461865947,
          7.357893547308288,
          -4.49939940221139,
          0.4899892135738252,
          8.070877375436993,
          -3.6266705034572206,
          -7.587198631017032,
          4.497671331504019,
          4.727715277869071,
          8.574821217917881,
          5.386323290578114,
          5.236094688814193,
          3.2712034793770597,
          -1.8243677361758452,
          5.728442581597333,
          3.260181428411452,
          5.575406357696272,
          0.9998188557481951,
          2.633141975054415,
          6.912382342494451,
          5.054763184502158,
          5.079886372093227,
          7.543404347541786
         ],
         "z": [
          -0.7363129779107448,
          -3.855612257002435,
          -2.6943570684165166,
          6.506627238193567,
          -2.8830195874248443,
          -0.09658528657719276,
          -4.952055227353022,
          -0.24993666119440608,
          -4.74456895103118,
          -6.765675973676164,
          -2.209776804669071,
          -3.9005401257658776,
          -2.9668757298774557,
          0.2073745713809293,
          -1.3092425338586888,
          -4.628612625868908,
          -1.5816021718802113,
          -3.782283815527901,
          -1.9736011361014656,
          7.076029611591083,
          -1.0630582353397426,
          -4.2530119351887725,
          -4.655661843288704,
          -1.1297985847660037,
          -5.056303733830978,
          -4.680241824787911,
          -2.5226093127037035,
          -5.21271082120508,
          0.01494474939649909,
          -3.2198126425569584,
          -2.1477136455902492,
          4.259940835316346,
          -0.7135177580929393,
          -3.0275157976049796,
          -5.3468736114164255,
          -7.488163080469336,
          -3.2990576102149802,
          -2.156470210630701,
          -0.8262335656937817,
          9.586532389100196,
          -3.2970654790847362,
          -0.6202221828686624,
          0.46912194244900274,
          -0.11833219883631148,
          -0.49137603410255676,
          -1.2384634068766542,
          2.6672221548565314,
          5.323412586882131,
          -6.488317724226775,
          -4.09261967321571,
          -0.960992391363902,
          -4.859987205276471,
          -2.282026223677815,
          4.635088662305806,
          -4.444565647724861,
          -2.8029979735287305,
          -4.019815978774348,
          -4.371630784431144,
          1.1317074886308485,
          -4.122010245477477,
          -3.6314859793514076,
          -2.3266195306936965,
          -4.719579796136993,
          -4.326863092162378,
          3.8628418577282826,
          -2.5698059056631353,
          -0.8010416993765448,
          6.411722611828964,
          7.659781401346092,
          -6.974673202145741,
          -2.410703075033113,
          -2.8400986970276922,
          -3.8223423837948225,
          -2.985111790684666,
          -6.793426646223918,
          -0.7750130007204321,
          -6.778626186610774,
          -3.26550202708432,
          -4.9145916220776,
          -2.4655302966351287,
          -2.32484985505977,
          8.811305731984964,
          -4.888813261588349,
          -4.046327592219038,
          5.959267930301756,
          -4.174614653454089,
          -0.48413833000426365,
          2.8186221510758793,
          -4.863727003951332,
          2.3332411267516924,
          -3.839254718185445,
          2.1720504463575008,
          -5.255721643215825,
          -1.3998920886168007,
          7.214150169684563,
          -4.544905759380796,
          -4.876643897277874,
          -3.693673840697161,
          -2.1897807793386765,
          0.18084031498994974,
          1.204873550565225,
          2.5570591714366797,
          -2.1705733458016394,
          7.816608730262129,
          -1.0878405981795398,
          -2.9458331116728265,
          5.964765741528229,
          -7.88851692515324,
          9.558659401359444,
          -0.8063656409761368,
          -1.8974187601209689,
          -0.5060157364293845,
          2.7192736744436763,
          -2.569913122719874,
          -0.09310930982173155,
          -7.611672832057324,
          -5.842867750271037,
          -2.906237625788385,
          1.7650165556364437,
          2.6356266352314357,
          3.669984724306879,
          1.014951901920767,
          -2.8954090477316683,
          -1.2951851272135162,
          1.1093030808009923,
          -1.3835067826351473,
          3.61478374560567,
          3.077224455984553,
          4.728871266205919,
          -5.942387742492724,
          0.08764251010642551,
          -1.5866843844846124,
          -4.641582363737866,
          2.2036673169908405,
          -5.668879038654377,
          -1.9196815249765693,
          -3.559206990193288,
          5.534673891961399,
          -4.732103355215265,
          -0.13391296902962907,
          -2.5061668290544032,
          -4.340934681435739,
          6.142793398668537,
          -1.3686822193560657,
          -5.741820606514547,
          2.790482015136943,
          -4.382321408077318,
          -1.750181194601525,
          2.7061448362949987,
          -3.8969306019541223,
          -5.494679981165877,
          -7.521167638313911,
          0.2708298670517866,
          3.532545561577929,
          -3.04544501906369,
          -3.250143482510194,
          -4.659247327245056,
          -5.098547226200235,
          -0.8814588552418708,
          0.4578956673147044,
          -4.416957741463399,
          4.297904416699712,
          3.277247574292766,
          -5.090796031908902,
          10.645567372847962,
          12.034789005932726,
          -2.8245944679857082,
          -5.275522861969325,
          -5.739799148675409,
          8.622337392647747,
          -3.112818799769321,
          -4.67049352158819,
          -0.11965260329874461,
          4.5700247375788265,
          -4.922881820449984,
          1.5211908452914438,
          4.635309623048008,
          -5.407085659320674,
          -6.47826222924118,
          0.1802940917198848,
          7.192225459295896,
          0.6344400093873539,
          2.0032977270608114,
          -1.2346800842082812,
          -0.27499334080862176,
          -1.9686506282654237,
          1.179367221971135,
          -4.270103238514929,
          -4.607379134477448,
          -2.8183535639966815,
          0.6904172329630286,
          3.6101954153373823,
          2.913389103749075,
          -5.77314559073617,
          -3.9165538879880915,
          0.3963910793401603
         ]
        },
        {
         "hovertemplate": "color=Neutrophil<br>PC1 (0.13)=%{x}<br>PC2 (0.09)=%{y}<br>PC3 (0.05)=%{z}<extra></extra>",
         "legendgroup": "Neutrophil",
         "marker": {
          "color": "#00cc96",
          "size": 4,
          "symbol": "circle"
         },
         "mode": "markers",
         "name": "Neutrophil",
         "scene": "scene",
         "showlegend": true,
         "type": "scatter3d",
         "x": [
          -1.8067855214700417,
          -11.128465496057904,
          -4.867165453835221,
          -0.2551022140252387,
          -2.0540181613436146,
          -0.6177834277567951,
          -5.9031847706409035,
          -4.13279024053341,
          -6.122780211803518,
          -1.2510061014024498,
          -5.570643586989103,
          -7.989650959660837,
          -3.314835253260993,
          -5.71785941382955,
          -1.5779665386080572,
          -5.524297088894667,
          -1.7479705620239487,
          -4.388355172193062,
          -4.769733550357654,
          -3.538682777038232,
          -3.998327157703056,
          -3.5984735427005328,
          -4.587299095989768,
          -4.604224446255274,
          -5.568140523722,
          1.4545390473398725,
          -3.2690110078620447,
          -5.93944433432682,
          -7.3385052058407645,
          -1.7784126373178275,
          -6.084324372135184,
          -6.054952908359103,
          -5.647812961256421,
          -7.692493037787301,
          -1.8420496246888038,
          -2.337532259454147,
          -5.400083701591112,
          -0.4232532361406567,
          -5.169982599709754,
          -8.242728315562344,
          -5.853883016509865,
          -1.506455789088638,
          -7.413845080661287,
          -4.459576732641574,
          -3.754211193718984,
          -8.623441191294598,
          -7.700850551399619,
          -3.1921370548864436,
          -9.277680592657237,
          -2.801974573538702,
          -4.185988400368731,
          -9.476195418789395,
          -6.209956539078623,
          -6.697804316829305,
          -1.373957591341281,
          -2.6378259526610583,
          -4.875192794745495,
          -9.198143243172014,
          -3.691321400456561,
          -7.173533507881192,
          -1.5697289497908036,
          -5.371801010536563,
          -8.391130258413789,
          1.5893513303241822,
          -2.358032528856706,
          -5.318866923096808,
          -6.721364332068018,
          -3.926019120502195,
          -6.564747979044176,
          -2.284452753104667,
          -0.8000017048394856,
          -3.83591585645281,
          -2.00404178564388,
          0.5266565664561536,
          -8.6063717369022,
          -1.9098868521085053,
          -3.5421297001327297,
          -3.9688502538035917,
          -9.368553833674495,
          -4.575784812851404,
          -3.296709735752936,
          -1.3541603776564046,
          -4.495601398001687,
          -2.5219497722213973,
          -6.360994751476075,
          -3.2469864449692007,
          -1.3135872739040984,
          -7.888569480881984,
          -2.623854350847178,
          3.7367478414641218,
          -6.6726276469738774,
          -4.272546674889076,
          -7.435355444300644,
          -2.3771177321826515,
          -6.672451244515759,
          -8.333548849580524,
          -3.140837248973675,
          -6.794135764455468,
          -11.164802480996498,
          -6.078730336419014,
          -3.3968600277302547,
          -1.7286865193035528,
          -6.10278697146009,
          -5.27583649206452,
          -1.5293870804846312,
          -7.475252778188422,
          -9.714022579005531,
          -4.263039664100028,
          -1.2407930060215557,
          -5.4826105213933864,
          -4.667695323330239,
          -5.199561923477836,
          -3.5203552014815513,
          -1.1970490657596684,
          -9.036748925875857,
          -4.257577982492484,
          -3.370218214697913,
          -1.7255907919153417,
          -8.088270226202827,
          -9.411731723231362,
          -10.841865137954745,
          -5.105790515352569,
          -1.6958139505750283,
          -3.391283829977837,
          -7.5430445646516615,
          -6.553832617995795,
          -9.461010364999243,
          -4.724604298386813,
          -0.813255120329106,
          -3.762507669542376,
          -3.96919204915964,
          -9.006888432513254,
          -5.017389751792282,
          -5.933069460014558,
          -8.540363515569771,
          1.1202884973914005,
          -5.98451636866972,
          -2.5976075241358236,
          -2.6171737769910766,
          -8.873443266959118,
          -1.4541459629604565,
          -5.20681173321246,
          0.43087695336256554,
          -1.8990872382166053,
          -0.03138286898862755,
          -6.65216392211626,
          -6.273604841739236,
          -2.3507621121067244,
          -7.640904984363114,
          -1.9941167255052583,
          -0.6607229226862753,
          -1.4630468806147914,
          -5.268081304613222,
          -6.312451898047715,
          -5.5299831189099455,
          2.7561355845425517,
          -2.7629283314447144,
          -7.9004385496065215,
          -2.1849035405658968,
          -4.788449474113084,
          -5.763600886570527,
          -7.001472548492959,
          -4.8193332449640796,
          -2.9915422686119424,
          -5.92579110683123,
          -2.259523847969171,
          -1.7698966875839393,
          -7.763246349187371,
          -7.513138556560522,
          -12.71870587503377,
          -11.553880426943556,
          -10.651756087872345,
          -4.996338654449635,
          -6.535037788544407,
          -6.698208809152501,
          -6.502190677170801,
          -1.78546420034811,
          -4.168077820791377,
          -0.36689433509906894,
          -2.872363969488448,
          -5.502169795333709,
          -7.399511631707825,
          -2.3569320575021147,
          -3.093881426496723,
          -5.257693378776095,
          1.1219569960662594,
          -3.139201996181948,
          -6.705873308914285,
          -3.828584548611575,
          -11.161245533153417,
          -8.568078498915087,
          -7.767442064197204,
          -9.09203829071937,
          -4.816139814718098,
          -5.971516255687348
         ],
         "y": [
          -6.797819905875294,
          -3.545108661462875,
          -8.384119158425293,
          -5.328520255469443,
          -7.488981287103011,
          -3.6238046749642954,
          -6.4658424875191605,
          -3.4308606893759297,
          -3.698669668336145,
          -7.22581583005077,
          -6.2694298407719735,
          -7.782132550416796,
          -6.849729637850159,
          -8.213536016499768,
          -4.595896574410961,
          -5.599985762160976,
          -3.2086843662995923,
          -8.880149482557838,
          -9.529776345879617,
          -1.1306107081743064,
          -9.764899446147917,
          -5.51198560353159,
          -8.727299584029614,
          -8.010829431935575,
          -6.527688150159449,
          -7.44271271449057,
          -7.413880336056464,
          -7.950325242755835,
          -9.90763052700409,
          -4.771052242353404,
          -10.489174263499713,
          -6.257504951111653,
          -6.874116724440378,
          -2.129256469348991,
          -7.4108886500452,
          -6.744624438531958,
          -6.554365245672308,
          0.39205961962686087,
          -5.174725868075881,
          -7.649603747682283,
          -6.089124623659696,
          -8.888040489168542,
          -2.719311135046556,
          -1.7357633376056731,
          -7.870460179223169,
          -9.460199383906836,
          -9.445099187328683,
          -4.084679560470374,
          -5.8673231804188815,
          -6.483124755676622,
          -4.580756414646422,
          -6.887979142417334,
          -4.882520719727702,
          -7.155554640686975,
          -7.229093988520328,
          -9.870833260718967,
          -6.591159986520342,
          -9.005574901538372,
          -4.226851665691313,
          -5.078433488865937,
          -6.332193853108033,
          -5.010495909331255,
          -7.804925747739027,
          -6.016223976057185,
          -10.81969331454528,
          4.053667158939965,
          -7.279931480264923,
          -3.021480602161597,
          -6.806717109275441,
          -7.443335025487855,
          -5.299612677365507,
          -4.866495829694202,
          -4.8411532672001165,
          -3.550703253777718,
          -3.767100378528536,
          -8.859129478631983,
          -10.119005529968769,
          -5.692152021337916,
          -5.407590243310253,
          -4.442105019649927,
          -6.490224356633717,
          -8.039146214011279,
          -9.083256023253504,
          -7.715485079038574,
          -12.230626071422137,
          -9.838007474124671,
          -4.519474157817439,
          -1.1863068123832543,
          -3.220568770991715,
          -9.225459426360828,
          -7.0138013024737695,
          -5.145934175152214,
          -8.174163033901761,
          -0.3497183963051329,
          -8.60294008757493,
          -5.157775487609156,
          -6.027940959010927,
          -7.061169052531459,
          -7.097355127950772,
          -7.312582197112941,
          -9.952647152204554,
          -5.009423654563519,
          -2.9087528945319,
          -7.140422379505756,
          2.5127907482144978,
          -7.892362507005764,
          -5.297122277992555,
          -6.907044199212914,
          -4.982622494383321,
          -7.933325407429191,
          -3.889468748094809,
          -8.173030269735206,
          -5.6244572561499115,
          -8.707385049659015,
          -5.176828130655244,
          -1.2292845985705498,
          -6.060018129691883,
          -4.674237146004111,
          -4.471653049220829,
          -4.648799650441008,
          -9.806737927435659,
          -9.573531396844164,
          -5.543436465822411,
          -7.355229660855607,
          -7.123599077468741,
          -9.623953070223642,
          -8.445308278476919,
          -5.654864049191635,
          -4.665561978210574,
          -8.649169213713638,
          -7.374144144685103,
          -8.057363826969482,
          -3.574250721939094,
          -2.4704504518155415,
          -5.344854661636386,
          -3.079445745852316,
          -8.639660150152455,
          -9.408335148340134,
          -6.654829884382743,
          -6.752123023287025,
          -10.194408647208114,
          -10.684586094422166,
          -6.414150756808804,
          -3.7610320249038196,
          -5.8949291923920875,
          -12.153468205934303,
          -5.196140715602362,
          -8.00468980335047,
          -1.5537961345202556,
          -6.685264621185669,
          -10.595359499118517,
          -3.539487499856133,
          -4.579545546822628,
          -4.4235285512864095,
          -3.6986749274974544,
          -6.5848652003606105,
          -7.7947803664457265,
          -4.997415430045634,
          -6.0634303139523285,
          -7.250913327635366,
          -5.5230366093838725,
          0.43337252734202647,
          -7.534780163670419,
          -8.617334280792365,
          -8.697481410744187,
          -5.694392196199562,
          -5.949809812972564,
          -8.425224501393343,
          -7.184201217176701,
          -6.1645569411929575,
          -9.75559562468807,
          -8.304828379535282,
          -7.383342207734789,
          -5.332401365393495,
          -7.466198710266044,
          -3.6618531496026683,
          -8.030263069220533,
          -4.57103038834778,
          -8.816038125609905,
          -5.499397122145214,
          -10.999723727061111,
          -4.163353095017072,
          -5.285170811393462,
          -6.0459512767256,
          -5.372927518470459,
          -3.7236515907374743,
          -5.042890201019505,
          -6.871468763418608,
          -8.004656282123591,
          -11.273896474843479,
          -3.3572040309038758,
          -8.398555999128497,
          -8.550274787008034,
          -2.9633543904170954,
          -6.319541356309827
         ],
         "z": [
          1.3912989205528647,
          1.346783447614826,
          -2.9375803270025735,
          -1.2710474182288296,
          -3.710251543359,
          -0.6293089220467989,
          -3.646002105390543,
          -0.08540140259541448,
          -3.756586636410452,
          -0.45313871175739673,
          -3.015018852323133,
          -3.1304289903988556,
          -1.3803158484127356,
          -0.6119198921626974,
          2.0610077761097396,
          0.5020834569179311,
          -2.566075347661033,
          -3.9579144406213884,
          1.684978930442169,
          -3.8247547247188187,
          -4.5289478799672205,
          1.7367594820329815,
          -3.055576289106324,
          0.2388658673340869,
          -0.5508259828063237,
          -4.053809053087185,
          -0.2456690197736691,
          1.4730328350139672,
          6.195244271190599,
          -0.6902978070651845,
          -0.030039269583888417,
          4.823646640627748,
          6.428209141471783,
          0.2112579913105908,
          1.928266330318325,
          -3.152216304450959,
          1.1607809559114826,
          -4.917956994101573,
          -4.175108058512379,
          -0.5181226729324135,
          -0.25582647549466153,
          0.6286091218856151,
          -1.4296852838749092,
          -5.482382145939756,
          -2.503724673997014,
          -2.801429719993539,
          2.6995231102955506,
          3.5908762707765716,
          1.254985909808254,
          -1.3193240366479488,
          -3.3754438909627598,
          -0.9334029931524427,
          3.4386693740088567,
          -2.132319969956616,
          6.056326128455784,
          -2.5632576114874137,
          0.9132935488207226,
          -4.910256084320741,
          -2.8757600578390745,
          -3.7572305388131366,
          -4.515793343409413,
          0.36107896636218206,
          0.906055719727672,
          -1.7174722282059163,
          1.9535529459674388,
          -2.4522297828460005,
          -2.9811944173095255,
          -5.023488855939114,
          -1.864428441565701,
          -1.7991503957186628,
          -1.3872184361267914,
          -1.6501120069131487,
          1.1102802423321056,
          5.745761151546697,
          1.638646933464174,
          -1.8364938100969004,
          2.17386632323162,
          -3.509262392803809,
          -3.8004240636040123,
          -0.8066639255049552,
          -1.9055140577630236,
          3.973686200914068,
          4.622409478949351,
          -3.6849841294002967,
          4.34682733527985,
          2.5204290922780217,
          1.065247158657725,
          -1.4291481053193666,
          2.404618295789191,
          -1.427955324517634,
          5.137962346346585,
          -1.2883523392813916,
          -2.957726202018223,
          6.897086310044886,
          3.577646205987389,
          4.604490367189073,
          5.68476708224333,
          5.913863937346358,
          1.3968246169875362,
          0.5423908755417304,
          -0.33947477199897713,
          -0.491362308958404,
          0.5650683606325511,
          -2.6706400089351696,
          -1.4976603174485876,
          2.6828172147978058,
          4.302017694955505,
          0.2620254246148845,
          -2.840259098427767,
          5.317646439987018,
          2.574659253129943,
          0.2642398914782662,
          2.1955367540369837,
          -1.1429315754360874,
          -1.608841970863857,
          -0.4804635019851203,
          0.3937250271162964,
          1.3196830925629974,
          2.669933032364283,
          8.33127560497981,
          6.713781385165448,
          -0.17438213301330463,
          -2.216933969070965,
          -2.4965491331128913,
          -0.2549820658077998,
          4.365929660282267,
          -3.3343414305509738,
          0.645272187269559,
          -1.6926641656513852,
          2.4116243675181566,
          0.8050408313458212,
          5.415628719583206,
          -3.558799281148418,
          0.0684370660127103,
          1.7386286993535949,
          6.186589702354608,
          0.4682314089559527,
          0.31443399959524654,
          -4.25132157399412,
          -1.934924232783882,
          -0.3021221533244748,
          -3.0077234667335517,
          -0.801325034414977,
          -3.9488458196792395,
          -5.3793438386729635,
          6.058771829407666,
          -3.0038878686970714,
          -2.032435153335779,
          1.2819920787429293,
          2.3487043375005423,
          -1.2635647978367253,
          -5.746960346861112,
          3.7667313308857726,
          0.5668743520379823,
          1.3627958338619364,
          -4.151805059623452,
          1.128891386216868,
          -2.774992013675606,
          3.4725555260265226,
          -1.7040780013697436,
          1.0457451361833507,
          0.027744729337162544,
          4.662872588121608,
          5.6607473852750445,
          9.280443185337946,
          -3.1388468983292386,
          2.5908017525401226,
          3.6622006419405393,
          -4.083252693333664,
          7.35327237667509,
          1.531584868459801,
          -2.710589190739003,
          -1.0204248823868707,
          0.06801781140755486,
          -3.935884296246777,
          5.772737867368415,
          -2.8150798901451903,
          -2.846697785696303,
          0.4533437763404862,
          0.40860911063610816,
          -1.3406149396723244,
          -4.9018146118765245,
          -0.6666615752641509,
          -0.05991830300435663,
          -5.032408720933778,
          -2.143190984976569,
          8.438461701811736,
          -1.5862399459590004,
          -0.13620224413934384,
          4.435481173279606,
          -2.2125767578991566,
          0.45485126541572035,
          0.44716023373484987,
          -2.2607837308750502,
          -4.0150004869103295
         ]
        },
        {
         "hovertemplate": "color=Erythroblast<br>PC1 (0.13)=%{x}<br>PC2 (0.09)=%{y}<br>PC3 (0.05)=%{z}<extra></extra>",
         "legendgroup": "Erythroblast",
         "marker": {
          "color": "#ab63fa",
          "size": 4,
          "symbol": "circle"
         },
         "mode": "markers",
         "name": "Erythroblast",
         "scene": "scene",
         "showlegend": true,
         "type": "scatter3d",
         "x": [
          4.721531078918248,
          7.0593737150488005,
          4.489268938106781,
          6.6659001371808575,
          12.053212464487734,
          9.548356542984834,
          10.106773110656395,
          4.8894162551427325,
          11.993235476990808,
          3.392554676255702,
          0.6288560364273432,
          5.528187695052903,
          10.032851324554953,
          8.170959824046445,
          7.112265676696005,
          10.42782837341483,
          11.773082904221198,
          7.618873777373974,
          7.592160285797809,
          7.026460177975736,
          10.308012013820218,
          7.852998442170378,
          7.608085045004241,
          6.684305855212569,
          7.654615491725497,
          5.359890144143456,
          6.587480356711496,
          8.669635444773268,
          7.828175537864447,
          7.366206885297335,
          2.9794582482483003,
          10.51818335031946,
          7.000484290608922,
          1.8473091268413488,
          3.040430559168069,
          6.053982177805472,
          9.813796702339454,
          5.71614928957841,
          7.251851915638082,
          7.95921766424871,
          8.881885366870717,
          12.795317889987622,
          8.556524408870585,
          10.08894215870952,
          8.789814410368084,
          7.471474263990299,
          9.360193085030817,
          6.881286313590154,
          10.499223084179505,
          1.386623556159984,
          5.468013248556994,
          8.74130448903891,
          4.433521309035234,
          11.407704924821974,
          12.021421198958967,
          6.2301229675974605,
          10.146223948634832,
          8.741945344407576,
          4.403869698192981,
          0.8484084565384982,
          9.846037651895683,
          8.586271146003819,
          2.8338350359439057,
          10.698726467707017,
          5.134456883416429,
          6.7323144928891026,
          8.007996400894429,
          2.75038622656747,
          7.670124420560448,
          1.461954592833756,
          6.986674590668565,
          3.4237556557711506,
          5.877985006009906,
          6.072580182140215,
          6.346036257711052,
          6.987973835075019,
          -0.7354991127802578,
          7.9844983988386335,
          3.2036587343942378,
          0.7176544377287499,
          3.641027883021575,
          9.992719066196805,
          7.639475124773521,
          1.6806837459740533,
          8.68239421938928,
          9.824365463316216,
          8.388550813811094,
          9.183012645052706,
          5.294854966495873,
          6.322472467929601,
          7.575766944744879,
          7.037327849350869,
          7.325288043308504,
          8.093068220179923,
          10.536297608432843,
          5.46376292185092,
          8.982102206639947
         ],
         "y": [
          -7.107159062275482,
          -5.15888386207036,
          -8.184534814830492,
          -3.8389290747722034,
          -2.2511593549556768,
          -3.4158030228380376,
          -0.4791578328189715,
          -6.793015171759649,
          -1.0008800438727878,
          -6.757162134665299,
          0.3317741888146293,
          -3.6267719931152484,
          -1.6860194260749333,
          -4.235381080813794,
          -1.2221540694713995,
          -3.469561624928544,
          -1.0294193278898645,
          -5.789333647817992,
          -8.535091220261133,
          -1.6286159315822657,
          -4.689940241736993,
          -2.2846266394080055,
          -6.761463691041601,
          -2.8794521503988078,
          -2.8772882868985676,
          -3.5822119630309377,
          -0.10120355258756131,
          -3.6159800481931463,
          -1.1090142559251155,
          -3.422614722020095,
          0.4138454283133437,
          -3.953051971371937,
          -9.20231978353088,
          -2.649129700291164,
          0.6141799609376897,
          -5.3351544147071746,
          -5.040907187520648,
          -3.1408851372224955,
          -7.09716687695857,
          -1.1053627600696831,
          -1.1313552830908042,
          -1.2084907279166752,
          -6.193732546397318,
          -1.8742566961403748,
          -4.307886119128529,
          -6.8668906724565835,
          -6.550869217518657,
          -7.354710094339108,
          -4.062282734661871,
          -8.46085632601086,
          0.6877075201248305,
          -7.8699663702114995,
          -7.919891451860086,
          -7.295679219859704,
          -4.912127264489154,
          -4.897818623734475,
          -5.2907967472644355,
          -2.333896579980037,
          1.7490805041934623,
          -10.739368837765904,
          -4.67184291180556,
          -6.480847351822045,
          3.597224880590108,
          -4.760996914536408,
          -9.007420822800954,
          0.4849578926999011,
          -3.2383033258299196,
          -0.48248767500483314,
          -2.0088262434853354,
          1.133899895227338,
          -2.2314500222856593,
          2.7843785772634027,
          -6.654019798149712,
          0.855716105548744,
          -6.002949061439219,
          0.5635003411110087,
          -3.9339170247083155,
          -6.654045619638851,
          -3.933985935709388,
          -4.271862786939979,
          -7.784715219720652,
          -2.163013577143096,
          -3.8963107873288125,
          4.408153228922799,
          -1.6274630768539429,
          -4.975337204898376,
          -5.617722215358691,
          -2.522531848309751,
          -3.097390521751272,
          -6.916281884858576,
          -3.058758736477705,
          -5.573277177578953,
          -2.2538382708167095,
          -6.462772676958272,
          -2.5801351095921308,
          -6.45328954381683,
          -3.660891092072516
         ],
         "z": [
          -1.9527965443616104,
          -3.971424698429257,
          1.0925531587482062,
          -0.4376563031537958,
          -0.15630770375222786,
          -1.236023453095812,
          -2.4101062222042895,
          -2.021675239563434,
          0.2396501730154918,
          2.353303005822013,
          -2.886037836573581,
          -2.8173649265351415,
          -2.8920082276454377,
          -3.3912829359767103,
          -0.47813204640770957,
          -1.0524968117230618,
          -3.23952608339821,
          -0.07291753515521943,
          -0.06965190846698072,
          -0.42697220417070303,
          -2.0088030280502043,
          1.2478657561147446,
          -0.9763792009493704,
          0.9234804267517188,
          -1.3016334224975319,
          -3.4498731368266276,
          -2.644080282120729,
          0.4681580875901305,
          -2.040257869378505,
          1.0383226800776557,
          -2.344458706985802,
          -0.25068017935611375,
          -3.1228732956322354,
          -0.20114034029836012,
          -6.281131436512386,
          -2.8915640096446036,
          -3.3179293185959304,
          -2.8564093474686802,
          -2.6387606695983985,
          -1.252696809597413,
          -5.359736648819055,
          -1.544920714975137,
          -0.7075600598327668,
          -2.3637593565390564,
          -3.193928353090298,
          -2.3217330919476487,
          -2.2886847587281096,
          -0.5207766438213347,
          -2.9700387668826718,
          1.9440343456468503,
          1.7063343445645625,
          -0.004981238042514657,
          -2.772170753048016,
          -0.4486973927574022,
          -1.176101031168849,
          -1.3064979765055562,
          -2.6874480586245157,
          1.1490513614596156,
          7.044064557350263,
          6.118533898480445,
          -2.4894937108034685,
          -0.10505569836332973,
          -3.6382585348707623,
          -1.8987076682407162,
          -3.9098692699342914,
          -1.8229713382012132,
          -4.028440451832315,
          -1.0488702059778534,
          -4.194221414784501,
          -1.4343717724577103,
          -1.7948723488968674,
          -1.9856171996679897,
          -3.384403422221717,
          2.479873501850711,
          -1.060599281350151,
          -1.103287750952514,
          -1.6090213751612454,
          -2.2456954543777137,
          -3.8155319666612217,
          2.181428745397978,
          0.5740779709402635,
          -2.0169212224719018,
          -4.974648413333496,
          -5.826955789583423,
          -2.8873927795586507,
          -0.6183212591462557,
          -2.7861687818120355,
          -2.9959968371916292,
          -2.1963809118943356,
          -2.8262259105378384,
          -2.6953289215166762,
          -4.304121176362271,
          -2.975914420449244,
          -5.120312844141608,
          -1.6413381088203114,
          -1.8424935985414501,
          -3.7999177633710635
         ]
        },
        {
         "hovertemplate": "color=Eosinophil<br>PC1 (0.13)=%{x}<br>PC2 (0.09)=%{y}<br>PC3 (0.05)=%{z}<extra></extra>",
         "legendgroup": "Eosinophil",
         "marker": {
          "color": "#FFA15A",
          "size": 4,
          "symbol": "circle"
         },
         "mode": "markers",
         "name": "Eosinophil",
         "scene": "scene",
         "showlegend": true,
         "type": "scatter3d",
         "x": [
          -3.561556586508375,
          -1.1044942823617414,
          -3.1755553831570014,
          0.6728019743275107,
          -5.89549778868734,
          0.4033742317683127,
          -1.786329162514297,
          -8.881728737828682,
          -9.62218163183722,
          -1.7016137878509296,
          -3.256396706773941,
          -4.258837892589224,
          -5.0361856059247065,
          -5.866759693083695,
          0.017072052888687003,
          -7.76332123169192,
          3.0940899644796147,
          -6.73974154341846,
          -6.237893752096626,
          -6.428204955704959,
          -6.64976543566117,
          -2.031510118011451,
          -6.800695232717328,
          -9.567533281788387,
          -7.551610769849812,
          -6.736598369731761,
          -3.396932122832398,
          -1.7364572846172486,
          3.202468763689717,
          -6.6875894724987095,
          -3.9682909684766887,
          -5.821757162224678,
          -9.309265059118001,
          2.0579528708310155,
          -4.381635392651248,
          -4.273100519261777,
          -0.8490072051102759,
          -7.387769302179722,
          -3.575336270559033,
          -8.697505969793113,
          -2.5386769796867936,
          -1.3556282499382923,
          -2.105204015144922,
          -0.5944430316434601,
          -1.25159543626106,
          -6.583658503918398,
          -7.035808232160711,
          -5.751463539922369,
          -7.860291427232577,
          -5.425703245252056,
          -7.734015154670456,
          -9.95659734546369,
          -4.174086402818894,
          -3.776252194588228,
          -5.446257780970759,
          -5.79826274313061,
          -7.666055381047401,
          -1.6682117277744548,
          -7.0993293318104715,
          -1.7166854974064216,
          -0.42628911481107934,
          -6.706577287070597,
          -8.061863228113655,
          -6.55200144469452,
          -3.3395249484366123,
          -4.293833887140644,
          0.1663023407143694,
          -2.240453486715814,
          -3.3935729139804134,
          -8.314344534451166,
          0.25282379662197857,
          -1.7740631915250793,
          -5.241653077851775,
          -6.097182504325679,
          -1.942486954797401,
          0.6005912770765074,
          -6.090877632585125,
          -2.409230659650356,
          -6.751079572934096,
          -4.863985040933047,
          -5.550827601076762,
          -7.576524269218619,
          -3.3864475237351406,
          -1.213495881604836,
          -1.6357715543681157,
          -6.062145847416858,
          0.4902814765472551,
          -5.990391633514493,
          -5.783979909007491,
          -5.886665722163467,
          -4.698800139663147,
          -3.7640059435801816,
          -6.251689116067944,
          -6.029236729129168,
          -8.403718791239536,
          -9.342967159139063,
          -6.694846653469475,
          -0.9627510417051564,
          -2.5566441812474126,
          -2.032204321288911,
          -4.109079684556451,
          -3.0400448896389474,
          -5.409725979215017,
          -3.069082606316652,
          -6.704556137117896,
          -7.085872716339988,
          -8.399565705669602,
          -4.287413385943113,
          -1.7157673003718297,
          -8.281258334010243,
          -2.0700855841956094,
          -1.9351273188435147,
          -1.829491317547441,
          -8.808941452339605,
          -7.823006131671154,
          -4.351312719188993,
          -0.8950496535447748,
          -5.740017421368763,
          -2.6098712730682303,
          -4.811984591764395,
          -1.9719472830397262,
          -6.911721870855978,
          -2.84344758252217,
          -7.402818156082477,
          -3.175060335384095,
          -1.2690288675938568,
          -0.7054059847699004,
          -8.73671420160963,
          -5.1057871250683,
          -2.745303698560983,
          -8.277380420969731,
          -4.72551364182716,
          3.3236935685032267,
          -2.3846056692918047,
          -4.431802697781727,
          -4.3834906687161075,
          -8.880102143738366,
          -7.359411426930109,
          -4.411306609732235,
          -2.4499004800098425,
          -8.286079821407405,
          -2.082530351637603,
          -5.0687913923350205,
          -1.3490948804611025,
          -7.091819784107053,
          -7.866987566766714,
          -5.504240374968862,
          -4.1509567610543305,
          -0.9187536352113721,
          -5.0100269567616635,
          -5.105907374527325,
          -6.641154333284402,
          -7.515714074839403,
          -2.2382821351672733,
          -2.2482184858311864,
          -6.187796126377207,
          -3.5785090099066315,
          -9.984722873020454,
          -3.673732233417477,
          -10.297615632246034,
          -8.898841541164016,
          -3.2466725321569974,
          -6.180662893232307,
          -7.802545815815295
         ],
         "y": [
          0.05645507372371289,
          2.5414826023268575,
          3.7646334321699575,
          2.8362302248794333,
          -1.3588518964932168,
          1.9172673020511493,
          2.10568496139359,
          1.415201199564189,
          -1.5282519444914433,
          5.5738548579517335,
          0.2658392471935799,
          1.3079654538258385,
          1.2402733110885105,
          -3.1165734554080475,
          3.5407794708900626,
          0.3716328597904567,
          7.315730236377907,
          1.880306659542979,
          -2.025282132209969,
          -0.28619494113166705,
          2.879718709273625,
          1.4403494738908909,
          -0.3907956350228519,
          -1.2169213401469372,
          -0.5738863673845046,
          1.1079870875233022,
          0.3856642750719038,
          1.9176207361464892,
          -0.642389253293566,
          -0.34749305077775317,
          0.16685844662735,
          -2.295677782721664,
          2.6530569373820057,
          0.07238715331380385,
          3.3200359991516186,
          0.837951176358118,
          -1.5565228447727022,
          -1.9994782072669914,
          3.2792304270526142,
          1.0947880429388055,
          1.3156346378424486,
          -1.2232418271343646,
          1.7486712194373504,
          -5.182952489909259,
          -0.43218309345597866,
          -3.9220129152701775,
          2.2170828000955396,
          -4.835649409907778,
          -1.6600763584103626,
          2.5293186807071613,
          -2.2565282669462072,
          0.31037504359164486,
          -3.999792833170617,
          0.04253215870419923,
          2.5877068816493303,
          1.1170998051018655,
          1.1810242167444625,
          4.072908563494586,
          0.506537458519692,
          0.08255920482865456,
          3.681361908850632,
          4.245308696304828,
          -0.36402396136884746,
          3.7598949967443414,
          -0.07635779640204463,
          0.6375226044290763,
          4.807015229857153,
          3.1074413786427986,
          1.664695637647209,
          5.618882970831105,
          3.2984628250691914,
          6.014829781367572,
          4.901967078133851,
          2.9013389820749795,
          -3.4227702379632228,
          -1.5827416230454041,
          3.199204999778719,
          -3.1554325896161757,
          4.789147083049448,
          1.692013461696161,
          -0.08555942177096097,
          2.4742775365468757,
          -1.5751639568440514,
          0.8027400930013495,
          -0.6236501166983515,
          -2.2043448793865346,
          1.4961132946279063,
          7.342161820838008,
          2.8797031700037454,
          0.6719504530497972,
          -0.41060429623990813,
          0.04465717270354752,
          1.5993981858571504,
          -2.1133867033613543,
          -2.8373737151046643,
          0.7993223420048914,
          2.9945254244754005,
          2.091770480246931,
          3.7287196848608266,
          3.762814024153525,
          2.424744780055289,
          3.2467933612362625,
          0.27455000669665475,
          6.283970717642492,
          -1.2964082303321156,
          -3.841015429097402,
          1.122414912042076,
          0.28358945084558784,
          -4.226350706098178,
          -0.5129141270934896,
          -0.42454765426842245,
          7.056781264394051,
          -1.20723573404343,
          -3.4104817706420376,
          2.7546918380772403,
          -3.7276245203445213,
          2.7970208396319904,
          4.511539499996712,
          3.6819902332347505,
          1.4348953988229982,
          -0.5748678732728042,
          -2.6366323220914594,
          1.991115751834226,
          -2.289656171271815,
          2.2908371141676747,
          -0.4041338211669019,
          -1.7126297363471024,
          -4.548893814968761,
          0.8514026164662143,
          2.7996885313109394,
          -0.12478566978452965,
          -1.329060527079107,
          5.419405163174351,
          1.4689338221701627,
          -1.822630899356668,
          -3.838984746389012,
          -4.801579958672779,
          0.3401555996221703,
          4.6082808396120996,
          5.6705891128202826,
          -0.43095176605949775,
          -1.0046409370276186,
          4.443345077306715,
          0.061853294706222056,
          -1.5156502741020372,
          0.6061760908767363,
          4.408148211501823,
          3.3069845927858084,
          1.145663617331168,
          -1.0007583075136486,
          1.0151017672326064,
          3.9616769944279966,
          1.989157909165183,
          2.9686338090251634,
          -1.0878238279733123,
          1.5812158171186694,
          4.477748170386337,
          -1.0941264849738763,
          -2.0601799210801466,
          3.2987175414769077,
          4.011699864297127,
          -1.2597973316574906,
          1.6905004085148139,
          -0.6727382888479244
         ],
         "z": [
          -0.9186627471794034,
          -2.147979699404527,
          -5.733616013047165,
          -1.5391960698042138,
          -5.07232703453754,
          -0.5976373189334893,
          -5.506517599697457,
          -1.827949626212768,
          -1.4293549684806575,
          -3.525842056151638,
          -1.883160778329624,
          -4.436693694336884,
          -5.714379776701873,
          5.9077232410804505,
          -2.039556936879763,
          -1.647536528479741,
          -6.000380433666334,
          -1.2494665710021418,
          -2.932471193066114,
          -0.07703594856746059,
          0.06763072434079989,
          -4.9067526353470035,
          -0.09232928936312576,
          2.989514939558216,
          -4.214822565424481,
          -4.967301727855822,
          -4.303395237543577,
          -0.9202436387785988,
          -5.063883378866438,
          -2.161126219834697,
          8.027562790132416,
          -0.3215650236021985,
          2.0488799596145486,
          -3.2118475463440337,
          -0.19242354741582685,
          -3.6278714300856194,
          -2.199831771219913,
          -6.700630836434699,
          -3.5796919706606225,
          -4.2253423062838324,
          -0.7182971619619632,
          -2.7050079673421346,
          -3.3165400453178027,
          -2.117125514077017,
          -3.166313780249668,
          -1.3443890878277471,
          1.3375283426720446,
          4.888664430782392,
          -5.879690400093918,
          -2.708156159772512,
          -0.23045545511841414,
          -3.4376851529138146,
          -6.266663141660928,
          -1.2022367576678359,
          0.6997779272295731,
          -2.131986787350788,
          0.8244281149667831,
          -2.051242093220917,
          -4.114872226428289,
          -5.050947028614429,
          -4.007586713628456,
          -0.14171733972869,
          -1.7916139518880105,
          2.1347471302885275,
          -5.333081583812982,
          -2.7619625321500094,
          0.4081918607005321,
          -3.8782850724302977,
          -4.611359523709664,
          0.3492559825017413,
          -4.498471473651196,
          5.385096504498168,
          -2.6311643318890505,
          -3.996225098495401,
          1.287323870298074,
          -7.0993199102859235,
          -0.8167781251895632,
          -0.18588949850457676,
          -4.911245991453998,
          -0.7083340003589347,
          -3.3682265936183433,
          -0.35756856824795435,
          -4.755244583681151,
          -3.043445815405236,
          -4.103745373041512,
          -4.6718907291623335,
          -5.109776646797154,
          -0.913210462682225,
          -5.631216643977661,
          -1.0021388194063687,
          -5.065351951793614,
          -2.5973122388028997,
          -6.849586394301537,
          3.807532561566755,
          -3.2332259529112948,
          -3.2472643732995965,
          -1.5229552460733362,
          -0.9582890025544188,
          -5.256910683582361,
          -3.061630594529152,
          -3.601762272638916,
          0.24955939513794856,
          -1.7437825533165072,
          -5.473094755856993,
          -4.316005444766835,
          4.485152459964741,
          2.7620659315392495,
          -4.220516962985061,
          3.6572281221376293,
          -3.2310408481890773,
          -4.519512740616531,
          -2.385598314729618,
          -1.4875187001754229,
          4.126741276184405,
          -3.8197964484303815,
          -3.820656656451278,
          -5.6651956628384355,
          -3.2593552277727023,
          -0.7949897889189157,
          -4.235993067737444,
          0.20725613530706066,
          -1.300451009505849,
          -3.6614653762149683,
          -4.29855720949861,
          -3.027940625171267,
          -4.688641053163255,
          -1.6805204349141563,
          -2.0023264345677227,
          1.4367254591315397,
          -2.8790485601101725,
          1.5518141753892503,
          -0.337886637177927,
          0.407050943861022,
          0.5404831589591581,
          -0.6910097291772659,
          -8.63063122141512,
          -1.7916953035716388,
          -0.4399471218001512,
          -4.336543507786389,
          1.7622629391673135,
          -2.9578044198864837,
          -5.386807175736627,
          -2.2549962183687486,
          0.040295762339123575,
          -5.00854749629767,
          -3.661702479893172,
          -7.262611154152598,
          -2.685555327009846,
          -2.594296302071817,
          -5.936939598058772,
          -0.35821959745040227,
          -0.8587065907754798,
          -3.4056106304401608,
          -5.7321127443724915,
          -3.329376043355021,
          -1.4173289777115714,
          -2.0396363866106952,
          -2.7375578787028547,
          2.230065462058359,
          2.4326992665225213,
          0.05065058633718872,
          -5.45154207945525,
          -2.7366324257543138,
          -5.938641375415789
         ]
        },
        {
         "hovertemplate": "color=Monocyte<br>PC1 (0.13)=%{x}<br>PC2 (0.09)=%{y}<br>PC3 (0.05)=%{z}<extra></extra>",
         "legendgroup": "Monocyte",
         "marker": {
          "color": "#19d3f3",
          "size": 4,
          "symbol": "circle"
         },
         "mode": "markers",
         "name": "Monocyte",
         "scene": "scene",
         "showlegend": true,
         "type": "scatter3d",
         "x": [
          -3.9134028227818796,
          -7.613902956031168,
          -0.3073560464596157,
          -6.671050785506722,
          -3.9117230735468804,
          -3.8322439602354077,
          -0.540336791104829,
          -7.49894842636573,
          -3.270664842287436,
          -7.300167674943765,
          -2.680021997262173,
          -2.6054436324462276,
          -4.472140460643627,
          -2.1211385821655018,
          -4.9357824559850805,
          -4.5774249452511135,
          -5.281156260352999,
          -4.101718825198411,
          -9.902899580753989,
          1.876668559746681,
          -5.375937684132201,
          -6.115925003975729,
          -8.960757435483124,
          -8.789058963843177,
          -3.2050699703807637,
          -1.6365934191995657,
          -0.2293983246452772,
          -0.8134674417717873,
          -4.4160179158883315,
          -1.1633507859405017,
          0.7973150523626942,
          -2.8371758459169407,
          -2.7373092908653556,
          -6.928481213919535,
          -6.868745185116514,
          -4.654801401818128,
          -3.1021027774230374,
          -5.829067826772137,
          0.9831671044246871,
          -4.762973240412019,
          -5.008804027235881,
          -4.067037749398816,
          -5.264031610704067,
          -4.673160138742872,
          -4.020705805648449,
          -7.016437242387351,
          0.02862398520656413,
          -8.810161642089726,
          -3.41521341416337,
          -8.544509524620471,
          1.6348285814241899,
          2.126754467724962,
          -4.304840716551781,
          -9.203902150900015,
          -4.0773793862511365,
          -1.827720634878276,
          -1.929988189941914,
          -3.5028608984507663,
          2.1657412021914797,
          -3.1844364554133846,
          -8.553809085773148,
          -2.613306581740568,
          -0.1988095218917602,
          -5.976554872100374,
          -8.37574118603478,
          -3.0135179780043595,
          -6.9683212554327785,
          -4.875932500391746,
          -4.039567449677516,
          -8.369565155623821,
          -3.1699889780443287,
          -8.704200394487179,
          2.6128275668712555,
          -1.133201050937815,
          -6.985190447240507,
          -2.641912657173297,
          -9.585469227862594,
          -8.780590027491886,
          -6.250689922600006,
          -3.5054317694640797,
          -8.837405322668797,
          -0.9775747240279136,
          -0.9082116852228024,
          -5.109320094959521,
          -0.9982571382700448,
          0.390968838561873,
          -7.142023203938353,
          -1.8627846603050782,
          -4.473912001229668
         ],
         "y": [
          4.782698796025967,
          3.7995809618948453,
          2.1340900590585026,
          -6.956511355631204,
          0.8666868320593291,
          5.201049945698514,
          8.343226574817994,
          -2.151226370064477,
          1.4077902827768418,
          -3.844392731311538,
          1.2975278699130488,
          2.7772675235274438,
          4.996201992459216,
          3.3536013447457123,
          4.787058051031182,
          -0.45618405916704174,
          2.06256049105278,
          3.4375346956987594,
          0.9182500891017336,
          2.916396621834041,
          -0.2758503576092283,
          0.42599047517154337,
          -4.449226339570759,
          -0.10290605247324824,
          -2.6101782804449885,
          6.683497939044903,
          4.726885407612096,
          7.666971070780207,
          3.27418222573099,
          7.124753238727662,
          2.799121798123296,
          2.5238877816728107,
          8.021396530745672,
          2.1415866919325204,
          1.8009033287106504,
          1.1749947437455157,
          6.413346700516508,
          -1.0734340597042853,
          8.594339277149972,
          3.7442376820420327,
          5.799929544239015,
          3.4324417639403006,
          -0.7788890610913681,
          -3.3966845769225116,
          1.7902541367880447,
          -1.2718874039097658,
          9.723914169069575,
          -0.27622891502097463,
          9.824821397140996,
          -4.086966493617232,
          8.101435975443067,
          8.948173720814939,
          6.020618427943433,
          1.464007543867065,
          0.19422504258175666,
          10.480648893693719,
          11.416789382682731,
          0.4691448968614337,
          4.715048852067482,
          6.729885160051098,
          -2.293059555237639,
          2.657551879113156,
          7.319173165622719,
          7.7324877659335005,
          0.39232198857611256,
          1.0596364156385123,
          0.4671812623563193,
          1.1930282044332334,
          -0.01678755163860901,
          -0.722139974312618,
          0.4327573441421311,
          -1.938248231060035,
          7.690832911203848,
          6.403350206479358,
          -3.521241168193203,
          5.335205087295752,
          -2.6494461378517666,
          -1.9704870748306105,
          -1.861816646291382,
          -0.8978267947925596,
          2.3214525314513024,
          6.6733466177595036,
          10.077183062106462,
          4.344402256593261,
          6.686571771482698,
          4.951206920510075,
          -3.0352499983396117,
          3.1610905936335483,
          -4.323583550571193
         ],
         "z": [
          9.037068405959241,
          4.619228584236893,
          -2.758798586418847,
          5.061000450815872,
          -3.6840179578299725,
          10.461540814716809,
          -0.9945752445135012,
          6.485486422231489,
          8.488777514658246,
          -0.7241752578606152,
          -0.6623302090458519,
          10.086820607327954,
          -5.048256932013044,
          9.116246766138442,
          9.109687229455412,
          5.327149191167129,
          6.526655534410511,
          6.423556963566495,
          2.8800162287897773,
          -4.1285014239472835,
          0.9119732508587834,
          2.4941297964938833,
          7.8110621040636765,
          10.504789353542193,
          10.616055832306149,
          4.8738939162266774,
          -2.4865901890051276,
          -1.8386484622940633,
          5.946524852545203,
          -0.8269377484204051,
          -1.6973054535435548,
          7.370446783908406,
          -4.726617510872156,
          8.897478902470661,
          2.0740467779287988,
          6.811170178075913,
          -0.725238187211949,
          9.062809865031367,
          4.230575211099683,
          10.706680989950653,
          4.042424154213826,
          6.816778122950398,
          8.156720886521269,
          4.934567046959565,
          8.042111900092475,
          4.8927639686881665,
          -2.8852677819831523,
          -1.8894678641612423,
          -2.0907411595136574,
          5.487814788726666,
          5.070668125551608,
          3.927449497821099,
          2.129888645704821,
          5.669417440239437,
          12.068892359727593,
          -3.5486839991761236,
          -3.7826282237640427,
          0.4222478689672945,
          -5.206524326792242,
          6.644994906401537,
          -3.195460368381459,
          -4.745326337370565,
          0.6457112554442633,
          -2.2606563500461196,
          -1.576875498002974,
          -2.635717078009844,
          6.372172031584898,
          -0.16315242540411445,
          11.488717463864234,
          7.7307892935999245,
          -6.279730544235065,
          7.0266009363153445,
          -3.1240408244332523,
          1.255298491530625,
          6.056902911199483,
          3.216500302999752,
          -0.2964081012157624,
          -0.6788627754906327,
          -0.946388750120329,
          10.807001198141718,
          8.895151891631633,
          -1.1588974577805948,
          -1.8326935578124903,
          5.546246944320245,
          2.511966373773748,
          -0.5583466121007638,
          10.37823372331123,
          0.6463924942080009,
          6.190452238130796
         ]
        },
        {
         "hovertemplate": "color=Basophil<br>PC1 (0.13)=%{x}<br>PC2 (0.09)=%{y}<br>PC3 (0.05)=%{z}<extra></extra>",
         "legendgroup": "Basophil",
         "marker": {
          "color": "#FF6692",
          "size": 4,
          "symbol": "circle"
         },
         "mode": "markers",
         "name": "Basophil",
         "scene": "scene",
         "showlegend": true,
         "type": "scatter3d",
         "x": [
          6.051651200971789,
          0.6104972680621907,
          -2.3564332332588456,
          1.4295328019243478,
          2.9818400616218375,
          0.9976304620144777,
          -3.0486279461397685,
          1.068997842833824,
          -0.844320134377578,
          3.6825688135710983,
          2.6506081644448587,
          0.05987887130356809,
          -1.1177451418502375,
          4.054888478229831,
          0.8454727047564039,
          3.6847223962651707,
          6.275410245116923,
          0.7603333617723138,
          -1.7377591345807828,
          0.7136139109075562,
          1.979176286427687,
          -2.6951767462161,
          0.7251484313905846,
          -3.634267228139853,
          1.2117111836970718,
          -5.183503596062291,
          0.6601293469000888,
          2.0153737916273835,
          -0.5554887660552806,
          -3.25221160443498,
          -0.06422426248163582,
          -1.270742996137249,
          0.25306543053207053,
          -0.44283149198448235,
          2.0715625562672644,
          0.9728343963403203,
          -0.1602811582985129,
          -0.13406581781591667,
          -0.9246947384892192,
          -0.9905370388765484,
          5.406870688537956,
          1.9168915112047222,
          5.7252262046060425,
          0.4304046010898931,
          2.476327042488473,
          -0.5912064628139628,
          1.9987434658934256,
          2.280199902270147,
          0.9410169257396201,
          0.8294075433376044,
          2.2311030274823214,
          -0.48349174233091463,
          0.03562840382633344,
          -3.3881278684832306,
          -0.7612981751145556,
          -3.978013065901746,
          1.0113746711100513,
          3.5267916183103605,
          -1.0078866190946676,
          -0.25188157228930524,
          2.9989420522796846,
          4.1647197207097095
         ],
         "y": [
          4.191675486818948,
          8.947292758079637,
          7.773967235168302,
          6.718629608562032,
          1.6264093780836597,
          9.159819579045719,
          6.375853862452865,
          7.925327761483331,
          5.966180892504401,
          0.11589718302509561,
          8.097730213575973,
          4.899163259891967,
          6.483505645501646,
          5.720740011922651,
          5.875495250359676,
          3.5224332577176436,
          5.515485795172982,
          4.0038499566273655,
          11.341460251179353,
          12.10358408606415,
          8.496650544014749,
          7.736678307718524,
          3.8620391731027883,
          6.541514192784209,
          6.644509380307568,
          2.448487884168446,
          5.302890534536096,
          8.581062820863275,
          9.378207496955136,
          11.349264911576768,
          6.385604770653809,
          6.810034010782674,
          5.133219403531211,
          6.186043118732836,
          8.794707061116535,
          9.173956141251159,
          10.744266442480729,
          8.168140708322436,
          9.952033307849696,
          12.319301402106822,
          3.98502315616776,
          2.970479454686369,
          3.38882561053125,
          9.284552285586525,
          4.456336252311254,
          9.36117027454665,
          5.523782071889436,
          7.607104219619691,
          8.986923741568177,
          5.120064551808143,
          1.0083184748169718,
          4.474333928375993,
          6.822265454189984,
          9.861990689715764,
          6.904494349435932,
          8.402380161435884,
          8.571024208150469,
          5.6154384843871625,
          5.26633894769734,
          6.874844877751269,
          4.859799053748091,
          5.9366937013764245
         ],
         "z": [
          2.2262056581511938,
          3.863920033429796,
          5.6995743996464645,
          9.003532756756666,
          -1.3094488349004099,
          1.8174857243153402,
          -3.4106242960543947,
          -2.464830278829863,
          -4.932790860794075,
          3.2544834799684152,
          -0.31914181035434974,
          2.6135073774797624,
          9.616789623417274,
          0.36974801568986215,
          2.1408079297228473,
          7.613056902807499,
          -1.734072992509993,
          7.086551164697852,
          -0.7090118426156369,
          3.3538759201670247,
          2.8205363897913855,
          6.595644851823028,
          9.268378580032774,
          9.565976837127987,
          2.9531090065292616,
          -2.6206565729503355,
          8.32895628794694,
          -3.6319706535212073,
          0.3850808768381044,
          4.895579792653577,
          1.7785744594836128,
          7.980073245287513,
          10.62510606057757,
          7.468011573301009,
          3.2629309296225766,
          -5.04356896631262,
          5.931781286358891,
          -1.2152693633499916,
          1.482491916693355,
          3.217682662419137,
          2.107236790164367,
          1.8156749866320718,
          -0.7520927065246203,
          5.638098725893274,
          7.907668061836553,
          3.8183992520062544,
          7.496535122206666,
          0.5136711801850034,
          2.6746836406641634,
          9.773415478172648,
          5.959583092128664,
          4.868954253454366,
          8.901914466945689,
          3.9681916693910426,
          3.5676526369426744,
          3.7462444033757323,
          -0.620282902243644,
          6.076807042800403,
          7.989429911257238,
          8.030478332283348,
          6.418628356025496,
          -2.7014986059807504
         ]
        },
        {
         "hovertemplate": "color=Lymphocyte<br>PC1 (0.13)=%{x}<br>PC2 (0.09)=%{y}<br>PC3 (0.05)=%{z}<extra></extra>",
         "legendgroup": "Lymphocyte",
         "marker": {
          "color": "#B6E880",
          "size": 4,
          "symbol": "circle"
         },
         "mode": "markers",
         "name": "Lymphocyte",
         "scene": "scene",
         "showlegend": true,
         "type": "scatter3d",
         "x": [
          7.32650496581917,
          11.647154340566352,
          7.658009565396887,
          3.5142692836976277,
          1.2364659158251003,
          11.47458695448916,
          8.480195043176002,
          10.866932416571588,
          6.763672804408591,
          8.089617526555685,
          8.303545772599321,
          5.7310845543929405,
          7.040272357657189,
          7.050305168520649,
          3.1709481424157118,
          7.74841843605858,
          9.71291919005012,
          4.277025711846068,
          9.853762471361108,
          3.840810597380585,
          9.044981535177097,
          5.940753018398735,
          7.5194461938378,
          4.093496533727055,
          5.651752023272462,
          7.071322957060204,
          8.918726026864244,
          6.284687569179619,
          10.380513971738557,
          5.3416989405609305,
          6.69438323684685,
          4.797088557445413,
          4.280558857855558,
          6.538693698413297,
          8.304961672733691,
          4.974997641367248,
          1.4749378539484939,
          3.6217559969455,
          10.423788414012693,
          4.203179306872424,
          7.1827513079010785,
          4.078061948971547,
          6.049521956698146,
          5.283031105469455,
          4.233651889380972,
          7.823854531279399,
          6.263818391520276,
          9.34826217571292,
          7.746389980272701,
          6.324554472470733,
          10.329558845914116,
          4.701384797124114,
          5.875330209200551,
          8.15649118559954,
          5.50789389561816,
          9.24437157327167,
          7.74036373532366,
          8.720172705489947,
          8.04604453158154,
          1.9297182241796416,
          8.85635414357289,
          7.430266843075738,
          6.0808818299600995,
          9.66717386474609,
          7.794181855078005,
          6.019138154286306
         ],
         "y": [
          0.05369944719519758,
          2.5870213088572847,
          -1.8698199094291126,
          1.2656158654839478,
          1.5031505080668297,
          -0.20651927619535804,
          4.609935326313666,
          0.5563963661230625,
          6.56966614658475,
          3.679097533847013,
          2.540194927978272,
          -0.5978145939639841,
          4.979199477934432,
          5.38716672933735,
          3.853463341425383,
          4.54453361154495,
          0.5554228159512434,
          -0.33656779899332656,
          0.423948947014796,
          3.7671416665421944,
          2.155091164433835,
          0.7532830007487871,
          -0.9222137285099742,
          3.990425015295468,
          3.941098804542108,
          -2.3766394120463263,
          0.29109821817987647,
          2.967283306470945,
          3.5111750128018384,
          3.296590740485402,
          4.239233354607929,
          4.536668588989778,
          5.478943578744278,
          5.318913390768516,
          3.084379354321902,
          0.7150099368378867,
          5.590293856910172,
          4.110527435939498,
          1.447456850046385,
          4.368235802091542,
          5.299021356950635,
          3.618739414028765,
          6.534756764591674,
          4.201368415571759,
          0.03811817636575593,
          4.230898230759761,
          5.137607723244779,
          1.146301004650598,
          0.6980846270370925,
          2.443466042735411,
          1.3771972283728027,
          1.0055210215505137,
          4.365524810319899,
          2.3889747799822283,
          -2.535676697496106,
          1.4069294330985653,
          3.473476103805088,
          2.5433443183434536,
          2.030104784689292,
          3.916596200852025,
          -1.5011518478141759,
          1.8530901311427788,
          0.9488909363549901,
          0.5055580712279939,
          -0.2091487344906502,
          0.9005248571438476
         ],
         "z": [
          -0.04359325165701072,
          2.0636654586425447,
          -1.288690414470675,
          -2.840157574225843,
          2.9973472033011492,
          -2.7883247004418275,
          2.790188846599709,
          2.156569226399183,
          -0.6678846991392073,
          -2.6289410129255093,
          3.1191236358353835,
          -1.9571074970527258,
          3.8626415025336547,
          6.843397340489782,
          4.611425632115357,
          -0.8689456093594493,
          -0.3041227588142621,
          1.7955622757376521,
          -0.6108606792404174,
          0.6822676800899989,
          -1.089820898335693,
          -1.9621753703242468,
          -2.4740323846988606,
          -2.4382487948167353,
          3.204644086341671,
          -1.3821750555806038,
          -0.691635260035014,
          4.8316720956420305,
          0.4946865238138642,
          0.5105108607499576,
          1.5618924702602608,
          -3.0939420989095314,
          -3.8659726261467915,
          3.1247044017625676,
          5.156803903194509,
          -0.8175188035784922,
          7.337211336682839,
          -0.11499154860191028,
          -0.6315117091420528,
          0.5860808232728093,
          -2.5981351908232826,
          -2.7239552696967264,
          3.7043215372776395,
          3.0013834000745945,
          2.530355672584036,
          0.2828710411431102,
          2.7017891157196083,
          -0.4065103044516767,
          -1.1142355846296685,
          -1.4378224924277916,
          -0.45381630062782136,
          5.210832415352808,
          0.4513563456575924,
          -0.8764054230785848,
          3.214781248898367,
          0.8192352692550602,
          0.5586751758476194,
          0.4394890733883678,
          0.04882166533248502,
          -0.5197833965312179,
          -1.6567979370164179,
          3.797599211570061,
          0.7446662609191135,
          -1.340571529430806,
          0.7617285127356472,
          3.8805123759007403
         ]
        }
       ],
       "layout": {
        "legend": {
         "title": {
          "text": "color"
         },
         "tracegroupgap": 0
        },
        "scene": {
         "domain": {
          "x": [
           0,
           1
          ],
          "y": [
           0,
           1
          ]
         },
         "xaxis": {
          "title": {
           "text": "PC1 (0.13)"
          }
         },
         "yaxis": {
          "title": {
           "text": "PC2 (0.09)"
          }
         },
         "zaxis": {
          "title": {
           "text": "PC3 (0.05)"
          }
         }
        },
        "template": {
         "data": {
          "bar": [
           {
            "error_x": {
             "color": "#2a3f5f"
            },
            "error_y": {
             "color": "#2a3f5f"
            },
            "marker": {
             "line": {
              "color": "#E5ECF6",
              "width": 0.5
             },
             "pattern": {
              "fillmode": "overlay",
              "size": 10,
              "solidity": 0.2
             }
            },
            "type": "bar"
           }
          ],
          "barpolar": [
           {
            "marker": {
             "line": {
              "color": "#E5ECF6",
              "width": 0.5
             },
             "pattern": {
              "fillmode": "overlay",
              "size": 10,
              "solidity": 0.2
             }
            },
            "type": "barpolar"
           }
          ],
          "carpet": [
           {
            "aaxis": {
             "endlinecolor": "#2a3f5f",
             "gridcolor": "white",
             "linecolor": "white",
             "minorgridcolor": "white",
             "startlinecolor": "#2a3f5f"
            },
            "baxis": {
             "endlinecolor": "#2a3f5f",
             "gridcolor": "white",
             "linecolor": "white",
             "minorgridcolor": "white",
             "startlinecolor": "#2a3f5f"
            },
            "type": "carpet"
           }
          ],
          "choropleth": [
           {
            "colorbar": {
             "outlinewidth": 0,
             "ticks": ""
            },
            "type": "choropleth"
           }
          ],
          "contour": [
           {
            "colorbar": {
             "outlinewidth": 0,
             "ticks": ""
            },
            "colorscale": [
             [
              0,
              "#0d0887"
             ],
             [
              0.1111111111111111,
              "#46039f"
             ],
             [
              0.2222222222222222,
              "#7201a8"
             ],
             [
              0.3333333333333333,
              "#9c179e"
             ],
             [
              0.4444444444444444,
              "#bd3786"
             ],
             [
              0.5555555555555556,
              "#d8576b"
             ],
             [
              0.6666666666666666,
              "#ed7953"
             ],
             [
              0.7777777777777778,
              "#fb9f3a"
             ],
             [
              0.8888888888888888,
              "#fdca26"
             ],
             [
              1,
              "#f0f921"
             ]
            ],
            "type": "contour"
           }
          ],
          "contourcarpet": [
           {
            "colorbar": {
             "outlinewidth": 0,
             "ticks": ""
            },
            "type": "contourcarpet"
           }
          ],
          "heatmap": [
           {
            "colorbar": {
             "outlinewidth": 0,
             "ticks": ""
            },
            "colorscale": [
             [
              0,
              "#0d0887"
             ],
             [
              0.1111111111111111,
              "#46039f"
             ],
             [
              0.2222222222222222,
              "#7201a8"
             ],
             [
              0.3333333333333333,
              "#9c179e"
             ],
             [
              0.4444444444444444,
              "#bd3786"
             ],
             [
              0.5555555555555556,
              "#d8576b"
             ],
             [
              0.6666666666666666,
              "#ed7953"
             ],
             [
              0.7777777777777778,
              "#fb9f3a"
             ],
             [
              0.8888888888888888,
              "#fdca26"
             ],
             [
              1,
              "#f0f921"
             ]
            ],
            "type": "heatmap"
           }
          ],
          "heatmapgl": [
           {
            "colorbar": {
             "outlinewidth": 0,
             "ticks": ""
            },
            "colorscale": [
             [
              0,
              "#0d0887"
             ],
             [
              0.1111111111111111,
              "#46039f"
             ],
             [
              0.2222222222222222,
              "#7201a8"
             ],
             [
              0.3333333333333333,
              "#9c179e"
             ],
             [
              0.4444444444444444,
              "#bd3786"
             ],
             [
              0.5555555555555556,
              "#d8576b"
             ],
             [
              0.6666666666666666,
              "#ed7953"
             ],
             [
              0.7777777777777778,
              "#fb9f3a"
             ],
             [
              0.8888888888888888,
              "#fdca26"
             ],
             [
              1,
              "#f0f921"
             ]
            ],
            "type": "heatmapgl"
           }
          ],
          "histogram": [
           {
            "marker": {
             "pattern": {
              "fillmode": "overlay",
              "size": 10,
              "solidity": 0.2
             }
            },
            "type": "histogram"
           }
          ],
          "histogram2d": [
           {
            "colorbar": {
             "outlinewidth": 0,
             "ticks": ""
            },
            "colorscale": [
             [
              0,
              "#0d0887"
             ],
             [
              0.1111111111111111,
              "#46039f"
             ],
             [
              0.2222222222222222,
              "#7201a8"
             ],
             [
              0.3333333333333333,
              "#9c179e"
             ],
             [
              0.4444444444444444,
              "#bd3786"
             ],
             [
              0.5555555555555556,
              "#d8576b"
             ],
             [
              0.6666666666666666,
              "#ed7953"
             ],
             [
              0.7777777777777778,
              "#fb9f3a"
             ],
             [
              0.8888888888888888,
              "#fdca26"
             ],
             [
              1,
              "#f0f921"
             ]
            ],
            "type": "histogram2d"
           }
          ],
          "histogram2dcontour": [
           {
            "colorbar": {
             "outlinewidth": 0,
             "ticks": ""
            },
            "colorscale": [
             [
              0,
              "#0d0887"
             ],
             [
              0.1111111111111111,
              "#46039f"
             ],
             [
              0.2222222222222222,
              "#7201a8"
             ],
             [
              0.3333333333333333,
              "#9c179e"
             ],
             [
              0.4444444444444444,
              "#bd3786"
             ],
             [
              0.5555555555555556,
              "#d8576b"
             ],
             [
              0.6666666666666666,
              "#ed7953"
             ],
             [
              0.7777777777777778,
              "#fb9f3a"
             ],
             [
              0.8888888888888888,
              "#fdca26"
             ],
             [
              1,
              "#f0f921"
             ]
            ],
            "type": "histogram2dcontour"
           }
          ],
          "mesh3d": [
           {
            "colorbar": {
             "outlinewidth": 0,
             "ticks": ""
            },
            "type": "mesh3d"
           }
          ],
          "parcoords": [
           {
            "line": {
             "colorbar": {
              "outlinewidth": 0,
              "ticks": ""
             }
            },
            "type": "parcoords"
           }
          ],
          "pie": [
           {
            "automargin": true,
            "type": "pie"
           }
          ],
          "scatter": [
           {
            "fillpattern": {
             "fillmode": "overlay",
             "size": 10,
             "solidity": 0.2
            },
            "type": "scatter"
           }
          ],
          "scatter3d": [
           {
            "line": {
             "colorbar": {
              "outlinewidth": 0,
              "ticks": ""
             }
            },
            "marker": {
             "colorbar": {
              "outlinewidth": 0,
              "ticks": ""
             }
            },
            "type": "scatter3d"
           }
          ],
          "scattercarpet": [
           {
            "marker": {
             "colorbar": {
              "outlinewidth": 0,
              "ticks": ""
             }
            },
            "type": "scattercarpet"
           }
          ],
          "scattergeo": [
           {
            "marker": {
             "colorbar": {
              "outlinewidth": 0,
              "ticks": ""
             }
            },
            "type": "scattergeo"
           }
          ],
          "scattergl": [
           {
            "marker": {
             "colorbar": {
              "outlinewidth": 0,
              "ticks": ""
             }
            },
            "type": "scattergl"
           }
          ],
          "scattermapbox": [
           {
            "marker": {
             "colorbar": {
              "outlinewidth": 0,
              "ticks": ""
             }
            },
            "type": "scattermapbox"
           }
          ],
          "scatterpolar": [
           {
            "marker": {
             "colorbar": {
              "outlinewidth": 0,
              "ticks": ""
             }
            },
            "type": "scatterpolar"
           }
          ],
          "scatterpolargl": [
           {
            "marker": {
             "colorbar": {
              "outlinewidth": 0,
              "ticks": ""
             }
            },
            "type": "scatterpolargl"
           }
          ],
          "scatterternary": [
           {
            "marker": {
             "colorbar": {
              "outlinewidth": 0,
              "ticks": ""
             }
            },
            "type": "scatterternary"
           }
          ],
          "surface": [
           {
            "colorbar": {
             "outlinewidth": 0,
             "ticks": ""
            },
            "colorscale": [
             [
              0,
              "#0d0887"
             ],
             [
              0.1111111111111111,
              "#46039f"
             ],
             [
              0.2222222222222222,
              "#7201a8"
             ],
             [
              0.3333333333333333,
              "#9c179e"
             ],
             [
              0.4444444444444444,
              "#bd3786"
             ],
             [
              0.5555555555555556,
              "#d8576b"
             ],
             [
              0.6666666666666666,
              "#ed7953"
             ],
             [
              0.7777777777777778,
              "#fb9f3a"
             ],
             [
              0.8888888888888888,
              "#fdca26"
             ],
             [
              1,
              "#f0f921"
             ]
            ],
            "type": "surface"
           }
          ],
          "table": [
           {
            "cells": {
             "fill": {
              "color": "#EBF0F8"
             },
             "line": {
              "color": "white"
             }
            },
            "header": {
             "fill": {
              "color": "#C8D4E3"
             },
             "line": {
              "color": "white"
             }
            },
            "type": "table"
           }
          ]
         },
         "layout": {
          "annotationdefaults": {
           "arrowcolor": "#2a3f5f",
           "arrowhead": 0,
           "arrowwidth": 1
          },
          "autotypenumbers": "strict",
          "coloraxis": {
           "colorbar": {
            "outlinewidth": 0,
            "ticks": ""
           }
          },
          "colorscale": {
           "diverging": [
            [
             0,
             "#8e0152"
            ],
            [
             0.1,
             "#c51b7d"
            ],
            [
             0.2,
             "#de77ae"
            ],
            [
             0.3,
             "#f1b6da"
            ],
            [
             0.4,
             "#fde0ef"
            ],
            [
             0.5,
             "#f7f7f7"
            ],
            [
             0.6,
             "#e6f5d0"
            ],
            [
             0.7,
             "#b8e186"
            ],
            [
             0.8,
             "#7fbc41"
            ],
            [
             0.9,
             "#4d9221"
            ],
            [
             1,
             "#276419"
            ]
           ],
           "sequential": [
            [
             0,
             "#0d0887"
            ],
            [
             0.1111111111111111,
             "#46039f"
            ],
            [
             0.2222222222222222,
             "#7201a8"
            ],
            [
             0.3333333333333333,
             "#9c179e"
            ],
            [
             0.4444444444444444,
             "#bd3786"
            ],
            [
             0.5555555555555556,
             "#d8576b"
            ],
            [
             0.6666666666666666,
             "#ed7953"
            ],
            [
             0.7777777777777778,
             "#fb9f3a"
            ],
            [
             0.8888888888888888,
             "#fdca26"
            ],
            [
             1,
             "#f0f921"
            ]
           ],
           "sequentialminus": [
            [
             0,
             "#0d0887"
            ],
            [
             0.1111111111111111,
             "#46039f"
            ],
            [
             0.2222222222222222,
             "#7201a8"
            ],
            [
             0.3333333333333333,
             "#9c179e"
            ],
            [
             0.4444444444444444,
             "#bd3786"
            ],
            [
             0.5555555555555556,
             "#d8576b"
            ],
            [
             0.6666666666666666,
             "#ed7953"
            ],
            [
             0.7777777777777778,
             "#fb9f3a"
            ],
            [
             0.8888888888888888,
             "#fdca26"
            ],
            [
             1,
             "#f0f921"
            ]
           ]
          },
          "colorway": [
           "#636efa",
           "#EF553B",
           "#00cc96",
           "#ab63fa",
           "#FFA15A",
           "#19d3f3",
           "#FF6692",
           "#B6E880",
           "#FF97FF",
           "#FECB52"
          ],
          "font": {
           "color": "#2a3f5f"
          },
          "geo": {
           "bgcolor": "white",
           "lakecolor": "white",
           "landcolor": "#E5ECF6",
           "showlakes": true,
           "showland": true,
           "subunitcolor": "white"
          },
          "hoverlabel": {
           "align": "left"
          },
          "hovermode": "closest",
          "mapbox": {
           "style": "light"
          },
          "paper_bgcolor": "white",
          "plot_bgcolor": "#E5ECF6",
          "polar": {
           "angularaxis": {
            "gridcolor": "white",
            "linecolor": "white",
            "ticks": ""
           },
           "bgcolor": "#E5ECF6",
           "radialaxis": {
            "gridcolor": "white",
            "linecolor": "white",
            "ticks": ""
           }
          },
          "scene": {
           "xaxis": {
            "backgroundcolor": "#E5ECF6",
            "gridcolor": "white",
            "gridwidth": 2,
            "linecolor": "white",
            "showbackground": true,
            "ticks": "",
            "zerolinecolor": "white"
           },
           "yaxis": {
            "backgroundcolor": "#E5ECF6",
            "gridcolor": "white",
            "gridwidth": 2,
            "linecolor": "white",
            "showbackground": true,
            "ticks": "",
            "zerolinecolor": "white"
           },
           "zaxis": {
            "backgroundcolor": "#E5ECF6",
            "gridcolor": "white",
            "gridwidth": 2,
            "linecolor": "white",
            "showbackground": true,
            "ticks": "",
            "zerolinecolor": "white"
           }
          },
          "shapedefaults": {
           "line": {
            "color": "#2a3f5f"
           }
          },
          "ternary": {
           "aaxis": {
            "gridcolor": "white",
            "linecolor": "white",
            "ticks": ""
           },
           "baxis": {
            "gridcolor": "white",
            "linecolor": "white",
            "ticks": ""
           },
           "bgcolor": "#E5ECF6",
           "caxis": {
            "gridcolor": "white",
            "linecolor": "white",
            "ticks": ""
           }
          },
          "title": {
           "x": 0.05
          },
          "xaxis": {
           "automargin": true,
           "gridcolor": "white",
           "linecolor": "white",
           "ticks": "",
           "title": {
            "standoff": 15
           },
           "zerolinecolor": "white",
           "zerolinewidth": 2
          },
          "yaxis": {
           "automargin": true,
           "gridcolor": "white",
           "linecolor": "white",
           "ticks": "",
           "title": {
            "standoff": 15
           },
           "zerolinecolor": "white",
           "zerolinewidth": 2
          }
         }
        },
        "title": {
         "text": "3D PCA"
        }
       }
      }
     },
     "metadata": {},
     "output_type": "display_data"
    }
   ],
   "source": [
    "fitted = pca.transform(features_df)\n",
    "fig = px.scatter_3d(\n",
    "            x=fitted[:, 0],\n",
    "            y=fitted[:, 1],\n",
    "            z=fitted[:, 2],\n",
    "            color= [labels[label] for label in y_unique[:1000].flatten()],\n",
    "            title='3D PCA',\n",
    "            labels = {'x': f'PC1 ({pca.explained_variance_ratio_[0]:.2f})',\n",
    "                      'y': f'PC2 ({pca.explained_variance_ratio_[1]:.2f})',\n",
    "                      'z': f'PC3 ({pca.explained_variance_ratio_[2]:.2f})'})\n",
    "fig.update_traces(marker_size=4)\n",
    "fig.show()"
   ]
  }
 ],
 "metadata": {
  "colab": {
   "provenance": []
  },
  "kaggle": {
   "accelerator": "none",
   "dataSources": [
    {
     "datasetId": 6111853,
     "sourceId": 9940694,
     "sourceType": "datasetVersion"
    },
    {
     "datasetId": 6145154,
     "sourceId": 9985646,
     "sourceType": "datasetVersion"
    },
    {
     "isSourceIdPinned": true,
     "modelId": 167655,
     "modelInstanceId": 145095,
     "sourceId": 170540,
     "sourceType": "modelInstanceVersion"
    }
   ],
   "dockerImageVersionId": 30787,
   "isGpuEnabled": false,
   "isInternetEnabled": true,
   "language": "python",
   "sourceType": "notebook"
  },
  "kernelspec": {
   "display_name": "base",
   "language": "python",
   "name": "python3"
  },
  "language_info": {
   "codemirror_mode": {
    "name": "ipython",
    "version": 3
   },
   "file_extension": ".py",
   "mimetype": "text/x-python",
   "name": "python",
   "nbconvert_exporter": "python",
   "pygments_lexer": "ipython3",
   "version": "3.9.18"
  }
 },
 "nbformat": 4,
 "nbformat_minor": 0
}
